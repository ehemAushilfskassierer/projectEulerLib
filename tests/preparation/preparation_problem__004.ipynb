{
 "cells": [
  {
   "cell_type": "markdown",
   "id": "c4565f93",
   "metadata": {},
   "source": [
    "<div style=\"\n",
    "    background-color: #ffddc1; \n",
    "    color: #333; \n",
    "    padding: 15px; \n",
    "    border-radius: 10px; \n",
    "    text-align: center; \n",
    "    font-size: 24px; \n",
    "    font-weight: bold;\n",
    "    box-shadow: 3px 3px 10px rgba(0, 0, 0, 0.1);\">\n",
    "    🧠 Project Euler: Crack math and programming problems! 🔢<br>\n",
    "    <a href=\"https://projecteuler.net/\" style=\"color: #333; text-decoration: underline; font-size: 18px;\">Discover now</a>\n",
    "</div>"
   ]
  },
  {
   "cell_type": "markdown",
   "id": "f393f490",
   "metadata": {},
   "source": [
    "# Project Euler: Problem 004: Largest Palindrome Product\n",
    "<a href=\"https://projecteuler.net/problem=4\">Task definition</a>\n",
    "\n",
    "\n",
    "\"A palindromic number reads the same both ways. The largest palindrome made from the product of two 2-digit numbers is 9009=91×99. Find the largest palindrome made from the product of two 3-digit numbers.\""
   ]
  },
  {
   "cell_type": "code",
   "execution_count": null,
   "id": "6c2d640d",
   "metadata": {},
   "outputs": [],
   "source": [
    "test = 91*99\n",
    "print(test)"
   ]
  },
  {
   "cell_type": "code",
   "execution_count": null,
   "id": "35f4189f",
   "metadata": {},
   "outputs": [],
   "source": [
    "str(test)"
   ]
  },
  {
   "cell_type": "code",
   "execution_count": null,
   "id": "1132a0f4",
   "metadata": {},
   "outputs": [],
   "source": [
    "type(str(test))"
   ]
  },
  {
   "cell_type": "code",
   "execution_count": null,
   "id": "006001de",
   "metadata": {},
   "outputs": [],
   "source": [
    "for i in range(len(str(test))):\n",
    "    print(str(test)[i])"
   ]
  },
  {
   "cell_type": "code",
   "execution_count": null,
   "id": "c2ccfe2c",
   "metadata": {},
   "outputs": [],
   "source": [
    "str(1234)[:]"
   ]
  },
  {
   "cell_type": "code",
   "execution_count": null,
   "id": "dd920c04",
   "metadata": {},
   "outputs": [],
   "source": [
    "str(1234)[::-1]\n",
    "    "
   ]
  },
  {
   "cell_type": "code",
   "execution_count": null,
   "id": "47f0f3b3",
   "metadata": {},
   "outputs": [],
   "source": [
    "if str(test) == str(test)[::-1]:\n",
    "    print(f\"{test} is a palindrom\")"
   ]
  },
  {
   "cell_type": "code",
   "execution_count": null,
   "id": "cc847ebb",
   "metadata": {},
   "outputs": [],
   "source": [
    "numberOfDigits = 2\n",
    "\n",
    "a = 10**numberOfDigits - 1\n",
    "b = 10**(numberOfDigits - 1)"
   ]
  },
  {
   "cell_type": "code",
   "execution_count": null,
   "id": "4b3cc702",
   "metadata": {},
   "outputs": [],
   "source": [
    "print(f\"{a = }\\t{b = }\")"
   ]
  },
  {
   "cell_type": "code",
   "execution_count": null,
   "id": "30e76c79",
   "metadata": {},
   "outputs": [],
   "source": [
    "for i in range(a, b, -1):\n",
    "    print(i)"
   ]
  },
  {
   "cell_type": "code",
   "execution_count": null,
   "id": "a4c3f247",
   "metadata": {},
   "outputs": [],
   "source": [
    "for i in range(a, b, -1):\n",
    "    for j in range(i, b, -1):\n",
    "        print(f\"{i = }\\t{j = }\")"
   ]
  },
  {
   "cell_type": "code",
   "execution_count": null,
   "id": "926c150e",
   "metadata": {},
   "outputs": [],
   "source": [
    "max = 0\n",
    "factors = (0, 0)"
   ]
  },
  {
   "cell_type": "code",
   "execution_count": null,
   "id": "769b0c09",
   "metadata": {},
   "outputs": [],
   "source": [
    "print(type(factors))"
   ]
  },
  {
   "cell_type": "code",
   "execution_count": null,
   "id": "9de3f96f",
   "metadata": {},
   "outputs": [],
   "source": [
    "for i in range(a, b, -1):\n",
    "    for j in range(i, b, -1):\n",
    "        res = i * j\n",
    "\n",
    "        if res <= max:\n",
    "            break\n",
    "            \n",
    "        if str(res) == str(res)[::-1]:\n",
    "            max = res\n",
    "            factors = (i, j)      "
   ]
  },
  {
   "cell_type": "code",
   "execution_count": null,
   "id": "73af3326",
   "metadata": {},
   "outputs": [],
   "source": [
    "print(f\"{max}= {factors[0]} * {factors[1]}\")"
   ]
  },
  {
   "cell_type": "code",
   "execution_count": null,
   "id": "0477503f",
   "metadata": {},
   "outputs": [],
   "source": [
    "def largestPalindromeByDigitLength(digits: int, showFactors: bool = False) -> int:\n",
    "    \"\"\"\n",
    "    Find the largest palindrome that is the product of two numbers with the given number of digits.\n",
    "\n",
    "    Args:\n",
    "        digits (int): Number of digits of the two factors (must be >= 1).\n",
    "        showFactors (bool): If True, prints the two factors that generate the palindrome.\n",
    "\n",
    "    Returns:\n",
    "        int: The largestest palindromic number made from the product of two numbers with the given digit length.\n",
    "    \"\"\"\n",
    "    assert isinstance(digits, int) and digits >= 1, \"digits must be an integers >= 1\"\n",
    "    assert isinstance(showFactors, bool), \"showFactors must be a boolean\"\n",
    "\n",
    "    upper = 10**digits - 1 # For example: digits = 3 -> upper = 999\n",
    "    lower = 10**(digits - 1) # For example: digits = 3 -> lower = 99\n",
    "\n",
    "    max_palindrome = 0\n",
    "    factors = (0, 0)\n",
    "\n",
    "    for i in range(upper, lower, -1): # starts be upper number and decrese by 1 until reaching one bevor lower\n",
    "        for j in range(i, lower, -1): # j = i -> saves unnecessary repetitions\n",
    "            product = i * j\n",
    "            \n",
    "            if product <= max_palindrome: # stop when product is equal or lower than the max_palindrome \n",
    "                # -> found max_palindrome\n",
    "                break\n",
    "            \n",
    "            if str(product) == str(product)[::-1]: # Check if palindrom\n",
    "                max_palindrome = product\n",
    "                factors = (i, j)\n",
    "\n",
    "    if showFactors:\n",
    "        print(f\"{max_palindrome}= {factors[0]} * {factors[1]}\")\n",
    "\n",
    "    return max_palindrome"
   ]
  },
  {
   "cell_type": "code",
   "execution_count": null,
   "id": "4d9a44f4",
   "metadata": {},
   "outputs": [],
   "source": [
    "largestPalindromeByDigitLength(2, True)"
   ]
  },
  {
   "cell_type": "code",
   "execution_count": null,
   "id": "0bf92ac8",
   "metadata": {},
   "outputs": [],
   "source": [
    "largestPalindromeByDigitLength(3, True)"
   ]
  },
  {
   "cell_type": "markdown",
   "id": "87885c0f",
   "metadata": {},
   "source": [
    "<div style=\"text-align: center;\">\n",
    "  <a href=\"https://de.wikipedia.org/wiki/Leonhard_Euler\">\n",
    "    <img src=\"images/Leonhard_Euler.jpg\" alt=\"Leonhard Euler\" style=\"width:300px; height:400px;\">\n",
    "  </a>\n",
    "</div>"
   ]
  },
  {
   "cell_type": "markdown",
   "id": "2bd00507",
   "metadata": {},
   "source": [
    "<div style=\"\n",
    "    background-color: #ffe4b5; \n",
    "    color: #333; \n",
    "    padding: 15px; \n",
    "    border-radius: 10px; \n",
    "    text-align: center; \n",
    "    font-size: 18px; \n",
    "    font-weight: bold;\n",
    "    box-shadow: 3px 3px 10px rgba(0, 0, 0, 0.1);\">\n",
    "    🔗  Connect with me:  \n",
    "    <br><br>\n",
    "    📌 <a href=\"https://www.linkedin.com/in/jan-eric-keller\" target=\"_blank\" style=\"color: #0077b5; text-decoration: none; font-weight: bold;\">LinkedIn</a>  \n",
    "    <br>\n",
    "    📊 <a href=\"https://www.kaggle.com/whatthedatahastotell\" target=\"_blank\" style=\"color: #20beff; text-decoration: none; font-weight: bold;\">Kaggle</a>  \n",
    "    <br>\n",
    "    🎥 <a href=\"https://www.youtube.com/@ehemAushilfskassierer\" target=\"_blank\" style=\"color: #ff0000; text-decoration: none; font-weight: bold;\">YouTube</a>  \n",
    "    <br>\n",
    "    📸 <a href=\"https://www.instagram.com/ehem.aushilfskassierer/\" target=\"_blank\" style=\"color: #e1306c; text-decoration: none; font-weight: bold;\">Instagram</a>  \n",
    "    <br>\n",
    "    🎵 <a href=\"https://www.tiktok.com/@ehem.aushilfskassierer\" target=\"_blank\" style=\"color: #000000; text-decoration: none; font-weight: bold;\">TikTok</a>  \n",
    "    <br><br>\n",
    "    🚀 If you found this helpful, leave an <span style=\"color: #ff5b33;\">⭐ upvote</span>!  \n",
    "    <br>\n",
    "    💬 Let me know in the comments what you liked or what could be improved!  \n",
    "</div>"
   ]
  }
 ],
 "metadata": {
  "kernelspec": {
   "display_name": "venv",
   "language": "python",
   "name": "python3"
  },
  "language_info": {
   "codemirror_mode": {
    "name": "ipython",
    "version": 3
   },
   "file_extension": ".py",
   "mimetype": "text/x-python",
   "name": "python",
   "nbconvert_exporter": "python",
   "pygments_lexer": "ipython3",
   "version": "3.13.2"
  }
 },
 "nbformat": 4,
 "nbformat_minor": 5
}
