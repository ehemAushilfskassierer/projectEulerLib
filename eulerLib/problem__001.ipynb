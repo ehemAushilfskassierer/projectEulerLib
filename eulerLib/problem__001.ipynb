{
 "cells": [
  {
   "cell_type": "markdown",
   "id": "e3cce910",
   "metadata": {},
   "source": [
    "<div style=\"\n",
    "    background-color: #ffddc1; \n",
    "    color: #333; \n",
    "    padding: 15px; \n",
    "    border-radius: 10px; \n",
    "    text-align: center; \n",
    "    font-size: 24px; \n",
    "    font-weight: bold;\n",
    "    box-shadow: 3px 3px 10px rgba(0, 0, 0, 0.1);\">\n",
    "    🧠 Project Euler: Crack math and programming problems! 🔢<br>\n",
    "    <a href=\"https://projecteuler.net/\" style=\"color: #333; text-decoration: underline; font-size: 18px;\">Discover now</a>\n",
    "</div>"
   ]
  },
  {
   "cell_type": "markdown",
   "id": "3ebf3ea1",
   "metadata": {},
   "source": [
    "# Project Euler: Problem 001: Multiples of 3 or 5\n",
    "<a href=\"https://projecteuler.net/problem=1\">Task definition</a>\n",
    "\n",
    "\n",
    "\"If we list all the natural numbers below 10 that are multiples of 3 or 5, we get 3, 5, 6 and 9. The sum of these multiples is 23.\n",
    "Find the sum of all the multiples of 3 or 5 below 1000.\""
   ]
  },
  {
   "cell_type": "markdown",
   "id": "748e49de",
   "metadata": {},
   "source": [
    "| Zahl | Vielfaches von 3? | Vielfaches von 5? | Wird übernommen? | Übernommener Wert |\n",
    "|------|-------------------|-------------------|------------------|-------------------|\n",
    "| 1    | ❌                | ❌                | Nein             | -                 |\n",
    "| 2    | ❌                | ❌                | Nein             | -                 |\n",
    "| 3    | ✅                | ❌                | Ja               | 3                 |\n",
    "| 4    | ❌                | ❌                | Nein             | -                 |\n",
    "| 5    | ❌                | ✅                | Ja               | 5                 |\n",
    "| 6    | ✅                | ❌                | Ja               | 6                 |\n",
    "| 7    | ❌                | ❌                | Nein             | -                 |\n",
    "| 8    | ❌                | ❌                | Nein             | -                 |\n",
    "| 9    | ✅                | ❌                | Ja               | 9                 |\n",
    "|      |                   |                   | **Summe:**       | **23**            |"
   ]
  },
  {
   "cell_type": "code",
   "execution_count": null,
   "id": "0874c38f",
   "metadata": {},
   "outputs": [],
   "source": [
    "a = 10 # All multiples must be smaller than this number"
   ]
  },
  {
   "cell_type": "code",
   "execution_count": null,
   "id": "bf7c70fe",
   "metadata": {},
   "outputs": [],
   "source": [
    "b = [] # List with all multiples"
   ]
  },
  {
   "cell_type": "code",
   "execution_count": null,
   "id": "4373c172",
   "metadata": {},
   "outputs": [],
   "source": [
    "for i in range(3, a): # Loop from 3 to a\n",
    "    print(i)\n",
    "\n",
    "print(f\"{a = }\")"
   ]
  },
  {
   "cell_type": "code",
   "execution_count": null,
   "id": "e32d5f12",
   "metadata": {},
   "outputs": [],
   "source": [
    "for i in range(3, a):\n",
    "    if i % 3 == 0 or i % 5 == 0: # If the number is divisible by 3 or 5 withouth remainder, add it to the list\n",
    "        b.append(i)"
   ]
  },
  {
   "cell_type": "code",
   "execution_count": null,
   "id": "dbc34ec9",
   "metadata": {},
   "outputs": [],
   "source": [
    "b"
   ]
  },
  {
   "cell_type": "code",
   "execution_count": null,
   "id": "63e8e879",
   "metadata": {},
   "outputs": [],
   "source": [
    "c = 0\n",
    "for i in b:\n",
    "    c += i"
   ]
  },
  {
   "cell_type": "code",
   "execution_count": null,
   "id": "af2908ca",
   "metadata": {},
   "outputs": [],
   "source": [
    "c"
   ]
  },
  {
   "cell_type": "code",
   "execution_count": null,
   "id": "dca90794",
   "metadata": {},
   "outputs": [],
   "source": [
    "sum(b)"
   ]
  },
  {
   "cell_type": "code",
   "execution_count": null,
   "id": "831c0b20",
   "metadata": {},
   "outputs": [],
   "source": [
    "def multiplesOf3Or5(number: int, showList: bool = False) -> int:\n",
    "    \"\"\"\n",
    "    Sums all multiples of 3 or 5 less than the given number.\n",
    "\n",
    "    Args:\n",
    "        number (int): All multiples must be smaller than this number (must be > 5).\n",
    "        showList (bool): If True, prints the list of multiples.\n",
    "\n",
    "    Returns:\n",
    "        int: The sum of all multiples of 3 or 5 below the given number.\n",
    "    \"\"\"\n",
    "    assert isinstance(number, int) and number > 5, \"number must be an integer > 5\"\n",
    "    assert isinstance(showList, bool), \"showList must be a boolean\"\n",
    "\n",
    "    lstMultiples = [i for i in range(3, number) if i % 3 == 0 or i % 5 == 0]\n",
    "\n",
    "    if showList:\n",
    "        print(lstMultiples)\n",
    "\n",
    "    return sum(lstMultiples)"
   ]
  },
  {
   "cell_type": "code",
   "execution_count": null,
   "id": "cbf57f31",
   "metadata": {},
   "outputs": [],
   "source": [
    "multiplesOf3Or5(10, True)"
   ]
  },
  {
   "cell_type": "code",
   "execution_count": null,
   "id": "48370072",
   "metadata": {},
   "outputs": [],
   "source": [
    "multiplesOf3Or5(1000)"
   ]
  },
  {
   "cell_type": "markdown",
   "id": "2b8e74d6",
   "metadata": {},
   "source": [
    "<div style=\"text-align: center;\">\n",
    "  <a href=\"https://de.wikipedia.org/wiki/Leonhard_Euler\">\n",
    "    <img src=\"images/Leonhard_Euler.jpg\" alt=\"Leonhard Euler\" style=\"width:300px; height:400px;\">\n",
    "  </a>\n",
    "</div>"
   ]
  },
  {
   "cell_type": "markdown",
   "id": "f49ad118",
   "metadata": {},
   "source": [
    "<div style=\"\n",
    "    background-color: #ffe4b5; \n",
    "    color: #333; \n",
    "    padding: 15px; \n",
    "    border-radius: 10px; \n",
    "    text-align: center; \n",
    "    font-size: 18px; \n",
    "    font-weight: bold;\n",
    "    box-shadow: 3px 3px 10px rgba(0, 0, 0, 0.1);\">\n",
    "    🔗  Connect with me:  \n",
    "    <br><br>\n",
    "    📌 <a href=\"https://www.linkedin.com/in/jan-eric-keller\" target=\"_blank\" style=\"color: #0077b5; text-decoration: none; font-weight: bold;\">LinkedIn</a>  \n",
    "    <br>\n",
    "    📊 <a href=\"https://www.kaggle.com/whatthedatahastotell\" target=\"_blank\" style=\"color: #20beff; text-decoration: none; font-weight: bold;\">Kaggle</a>  \n",
    "    <br>\n",
    "    🎥 <a href=\"https://www.youtube.com/@ehemAushilfskassierer\" target=\"_blank\" style=\"color: #ff0000; text-decoration: none; font-weight: bold;\">YouTube</a>  \n",
    "    <br>\n",
    "    📸 <a href=\"https://www.instagram.com/ehem.aushilfskassierer/\" target=\"_blank\" style=\"color: #e1306c; text-decoration: none; font-weight: bold;\">Instagram</a>  \n",
    "    <br>\n",
    "    🎵 <a href=\"https://www.tiktok.com/@ehem.aushilfskassierer\" target=\"_blank\" style=\"color: #000000; text-decoration: none; font-weight: bold;\">TikTok</a>  \n",
    "    <br><br>\n",
    "    🚀 If you found this helpful, leave an <span style=\"color: #ff5b33;\">⭐ upvote</span>!  \n",
    "    <br>\n",
    "    💬 Let me know in the comments what you liked or what could be improved!  \n",
    "</div>"
   ]
  }
 ],
 "metadata": {
  "kernelspec": {
   "display_name": "venv",
   "language": "python",
   "name": "python3"
  },
  "language_info": {
   "codemirror_mode": {
    "name": "ipython",
    "version": 3
   },
   "file_extension": ".py",
   "mimetype": "text/x-python",
   "name": "python",
   "nbconvert_exporter": "python",
   "pygments_lexer": "ipython3",
   "version": "3.13.2"
  }
 },
 "nbformat": 4,
 "nbformat_minor": 5
}
