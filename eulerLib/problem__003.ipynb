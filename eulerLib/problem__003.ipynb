{
 "cells": [
  {
   "cell_type": "markdown",
   "id": "c4565f93",
   "metadata": {},
   "source": [
    "<div style=\"\n",
    "    background-color: #ffddc1; \n",
    "    color: #333; \n",
    "    padding: 15px; \n",
    "    border-radius: 10px; \n",
    "    text-align: center; \n",
    "    font-size: 24px; \n",
    "    font-weight: bold;\n",
    "    box-shadow: 3px 3px 10px rgba(0, 0, 0, 0.1);\">\n",
    "    🧠 Project Euler: Crack math and programming problems! 🔢<br>\n",
    "    <a href=\"https://projecteuler.net/\" style=\"color: #333; text-decoration: underline; font-size: 18px;\">Discover now</a>\n",
    "</div>"
   ]
  },
  {
   "cell_type": "markdown",
   "id": "f393f490",
   "metadata": {},
   "source": [
    "# Project Euler: Problem 003: Largest Prime Factor\n",
    "<a href=\"https://projecteuler.net/problem=3\">Task definition</a>\n",
    "\n",
    "\n",
    "\"The prime factors of 13195 are 5, 7, 13 and 29.\n",
    "\n",
    "What is the largest prime factor of the number 600851475143?\""
   ]
  },
  {
   "cell_type": "code",
   "execution_count": 1,
   "id": "52ba7086",
   "metadata": {},
   "outputs": [],
   "source": [
    "num = 600851475143"
   ]
  },
  {
   "cell_type": "code",
   "execution_count": 2,
   "id": "cf60526e",
   "metadata": {},
   "outputs": [],
   "source": [
    "number1 = 13195"
   ]
  },
  {
   "cell_type": "code",
   "execution_count": 3,
   "id": "1999d01c",
   "metadata": {},
   "outputs": [],
   "source": [
    "lstPrimFact1 = []\n",
    "factor1 = 2\n",
    "step1 = 1"
   ]
  },
  {
   "cell_type": "code",
   "execution_count": 4,
   "id": "cce62ed0",
   "metadata": {},
   "outputs": [
    {
     "name": "stdout",
     "output_type": "stream",
     "text": [
      "{'step': 1, 'factor': 5, 'value': 13195}\n",
      "{'step': 2, 'factor': 7, 'value': 2639}\n",
      "{'step': 3, 'factor': 13, 'value': 377}\n",
      "{'step': 4, 'factor': 29, 'value': 29}\n"
     ]
    },
    {
     "data": {
      "text/plain": [
       "29"
      ]
     },
     "execution_count": 4,
     "metadata": {},
     "output_type": "execute_result"
    }
   ],
   "source": [
    "while number1/factor1 > 1:\n",
    "    if number1 % factor1 == 0:\n",
    "        lstPrimFact1.append({\n",
    "            'step':step1,\n",
    "            'factor':factor1,\n",
    "            'value':number1\n",
    "        })\n",
    "\n",
    "        number1 //= factor1\n",
    "\n",
    "        step1 += 1\n",
    "\n",
    "        factor1 = 2\n",
    "    else:\n",
    "        factor1 += 1\n",
    "\n",
    "lstPrimFact1.append({\n",
    "        'step':step1,\n",
    "        'factor':factor1,\n",
    "        'value':number1\n",
    "        })\n",
    "\n",
    "for entry in lstPrimFact1:\n",
    "    print(entry)\n",
    "\n",
    "max(entry['factor'] for entry in lstPrimFact1)"
   ]
  },
  {
   "cell_type": "code",
   "execution_count": null,
   "id": "496935d6",
   "metadata": {},
   "outputs": [],
   "source": []
  },
  {
   "cell_type": "code",
   "execution_count": 9,
   "id": "a19d7d64",
   "metadata": {},
   "outputs": [],
   "source": [
    "def highestPrimeFactor(number: int, showAllStep: bool = False) -> int:\n",
    "    \"\"\"\n",
    "    Calculate the highest prime factor of the given number.\n",
    "\n",
    "    Args:\n",
    "        number (int): The number that will be factored (must be > 2).\n",
    "        showAllStep (bool): If True, prints all steps of the factorization.\n",
    "\n",
    "    Returns:\n",
    "        int: The highest prime factor of the given number.\n",
    "    \"\"\"\n",
    "    assert isinstance(number, int) and number > 2, \"Number must be an integer > 2\"\n",
    "    assert isinstance(showAllStep, bool), \"showAllStep must be a boolean\"\n",
    "\n",
    "    lstPrimFact = []\n",
    "    factor = 2\n",
    "    step = 1\n",
    "    lstPrimFact.append({\n",
    "        'step': 0,\n",
    "        'factor': 0,\n",
    "        'value': number\n",
    "    })\n",
    "\n",
    "    while number > 1:\n",
    "        if number % factor == 0:\n",
    "            number //= factor\n",
    "            lstPrimFact.append({\n",
    "                'step': step,\n",
    "                'factor': factor,\n",
    "                'value': number\n",
    "            })\n",
    "            step += 1\n",
    "        else:\n",
    "            factor += 1\n",
    "\n",
    "    if showAllStep:\n",
    "        for entry in lstPrimFact:\n",
    "            print(entry)\n",
    "\n",
    "    return max(entry['factor'] for entry in lstPrimFact)\n",
    "    "
   ]
  },
  {
   "cell_type": "markdown",
   "id": "de7978e9",
   "metadata": {},
   "source": [
    "Check if 122323 is a prime number ([Primzahlen-Liste](https://brueche-rechner.de/primzahlen-liste/))."
   ]
  },
  {
   "cell_type": "code",
   "execution_count": 10,
   "id": "d0f9b8db",
   "metadata": {},
   "outputs": [
    {
     "name": "stdout",
     "output_type": "stream",
     "text": [
      "{'step': 0, 'factor': 0, 'value': 122323}\n",
      "{'step': 1, 'factor': 122323, 'value': 1}\n"
     ]
    },
    {
     "data": {
      "text/plain": [
       "122323"
      ]
     },
     "execution_count": 10,
     "metadata": {},
     "output_type": "execute_result"
    }
   ],
   "source": [
    "highestPrimeFactor(122323, True)"
   ]
  },
  {
   "cell_type": "code",
   "execution_count": null,
   "id": "688c0247",
   "metadata": {},
   "outputs": [],
   "source": []
  },
  {
   "cell_type": "code",
   "execution_count": 11,
   "id": "a347b8e2",
   "metadata": {},
   "outputs": [
    {
     "name": "stdout",
     "output_type": "stream",
     "text": [
      "{'step': 0, 'factor': 0, 'value': 600851475143}\n",
      "{'step': 1, 'factor': 71, 'value': 8462696833}\n",
      "{'step': 2, 'factor': 839, 'value': 10086647}\n",
      "{'step': 3, 'factor': 1471, 'value': 6857}\n",
      "{'step': 4, 'factor': 6857, 'value': 1}\n"
     ]
    },
    {
     "data": {
      "text/plain": [
       "6857"
      ]
     },
     "execution_count": 11,
     "metadata": {},
     "output_type": "execute_result"
    }
   ],
   "source": [
    "highestPrimeFactor(num, True)"
   ]
  },
  {
   "cell_type": "markdown",
   "id": "87885c0f",
   "metadata": {},
   "source": [
    "<div style=\"text-align: center;\">\n",
    "  <a href=\"https://de.wikipedia.org/wiki/Leonhard_Euler\">\n",
    "    <img src=\"images/Leonhard_Euler.jpg\" alt=\"Leonhard Euler\" style=\"width:300px; height:400px;\">\n",
    "  </a>\n",
    "</div>"
   ]
  },
  {
   "cell_type": "markdown",
   "id": "2bd00507",
   "metadata": {},
   "source": [
    "<div style=\"\n",
    "    background-color: #ffe4b5; \n",
    "    color: #333; \n",
    "    padding: 15px; \n",
    "    border-radius: 10px; \n",
    "    text-align: center; \n",
    "    font-size: 18px; \n",
    "    font-weight: bold;\n",
    "    box-shadow: 3px 3px 10px rgba(0, 0, 0, 0.1);\">\n",
    "    🔗  Connect with me:  \n",
    "    <br><br>\n",
    "    📌 <a href=\"https://www.linkedin.com/in/jan-eric-keller\" target=\"_blank\" style=\"color: #0077b5; text-decoration: none; font-weight: bold;\">LinkedIn</a>  \n",
    "    <br>\n",
    "    📊 <a href=\"https://www.kaggle.com/whatthedatahastotell\" target=\"_blank\" style=\"color: #20beff; text-decoration: none; font-weight: bold;\">Kaggle</a>  \n",
    "    <br>\n",
    "    🎥 <a href=\"https://www.youtube.com/@ehemAushilfskassierer\" target=\"_blank\" style=\"color: #ff0000; text-decoration: none; font-weight: bold;\">YouTube</a>  \n",
    "    <br>\n",
    "    📸 <a href=\"https://www.instagram.com/ehem.aushilfskassierer/\" target=\"_blank\" style=\"color: #e1306c; text-decoration: none; font-weight: bold;\">Instagram</a>  \n",
    "    <br>\n",
    "    🎵 <a href=\"https://www.tiktok.com/@ehem.aushilfskassierer\" target=\"_blank\" style=\"color: #000000; text-decoration: none; font-weight: bold;\">TikTok</a>  \n",
    "    <br><br>\n",
    "    🚀 If you found this helpful, leave an <span style=\"color: #ff5b33;\">⭐ upvote</span>!  \n",
    "    <br>\n",
    "    💬 Let me know in the comments what you liked or what could be improved!  \n",
    "</div>"
   ]
  }
 ],
 "metadata": {
  "kernelspec": {
   "display_name": "venv",
   "language": "python",
   "name": "python3"
  },
  "language_info": {
   "codemirror_mode": {
    "name": "ipython",
    "version": 3
   },
   "file_extension": ".py",
   "mimetype": "text/x-python",
   "name": "python",
   "nbconvert_exporter": "python",
   "pygments_lexer": "ipython3",
   "version": "3.13.2"
  }
 },
 "nbformat": 4,
 "nbformat_minor": 5
}
