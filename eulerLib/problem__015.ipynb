{
 "cells": [
  {
   "cell_type": "markdown",
   "id": "c4565f93",
   "metadata": {},
   "source": [
    "<div style=\"\n",
    "    background-color: #ffddc1; \n",
    "    color: #333; \n",
    "    padding: 15px; \n",
    "    border-radius: 10px; \n",
    "    text-align: center; \n",
    "    font-size: 24px; \n",
    "    font-weight: bold;\n",
    "    box-shadow: 3px 3px 10px rgba(0, 0, 0, 0.1);\">\n",
    "    🧠 Project Euler: Crack math and programming problems! 🔢<br>\n",
    "    <a href=\"https://projecteuler.net/\" style=\"color: #333; text-decoration: underline; font-size: 18px;\">Discover now</a>\n",
    "</div>"
   ]
  },
  {
   "cell_type": "markdown",
   "id": "f393f490",
   "metadata": {},
   "source": [
    "# Project Euler: Problem 015: Lattice Paths\n",
    "<a href=\"https://projecteuler.net/problem=15\">Task definition</a>\n",
    "\n",
    "\n",
    "\"Starting in the top left corner of a 2 x 2 grid, and only being able to move to the right and down, there are exactly 6 routes to the bottom right corner.\n",
    "\n",
    "<div style=\"text-align: center;\">\n",
    "  <a href=\"https://projecteuler.net/problem=15\">\n",
    "    <img src=\"images/0015.png\" alt=\"Grid\" style=\"width:200px; height:200px;\">\n",
    "  </a>\n",
    "</div>\n",
    "\n",
    "How many such routes are there through a 20 x 20 grid?\""
   ]
  },
  {
   "cell_type": "markdown",
   "id": "c1e4df42",
   "metadata": {},
   "source": [
    "$\n",
    "\\text{Number of Lattice Paths} = \\binom{m + n}{m} = \\frac{(m+n)!}{m!\\cdot n!}\n",
    "$\n",
    "\n",
    "Example with (2, 2):\n",
    "\n",
    "$\n",
    "\\binom{2+2}{2} = \\binom{4}{2} = \\frac{4!}{2!\\cdot2!} = \\frac{24}{4} = 6\n",
    "$"
   ]
  },
  {
   "cell_type": "code",
   "execution_count": null,
   "id": "044d45c1",
   "metadata": {},
   "outputs": [],
   "source": [
    "m, n = 2, 2"
   ]
  },
  {
   "cell_type": "code",
   "execution_count": null,
   "id": "19047e6e",
   "metadata": {},
   "outputs": [],
   "source": [
    "def factorial(n):\n",
    "    result = 1\n",
    "    for i in range(1, n+1):\n",
    "        result *= i\n",
    "    return result"
   ]
  },
  {
   "cell_type": "code",
   "execution_count": null,
   "id": "9f6f7b69",
   "metadata": {},
   "outputs": [],
   "source": [
    "def calcLatticePaths(m, n):\n",
    "    a = factorial(m + n)\n",
    "    b = factorial(m)*factorial(n)\n",
    "    return int(a/b)"
   ]
  },
  {
   "cell_type": "code",
   "execution_count": null,
   "id": "ddcacad0",
   "metadata": {},
   "outputs": [],
   "source": [
    "calcLatticePaths(m, n)"
   ]
  },
  {
   "cell_type": "code",
   "execution_count": null,
   "id": "1072cf70",
   "metadata": {},
   "outputs": [],
   "source": [
    "calcLatticePaths(20, 20)"
   ]
  },
  {
   "cell_type": "code",
   "execution_count": null,
   "id": "510c8a0b",
   "metadata": {},
   "outputs": [],
   "source": []
  },
  {
   "cell_type": "markdown",
   "id": "87885c0f",
   "metadata": {},
   "source": [
    "<div style=\"text-align: center;\">\n",
    "  <a href=\"https://de.wikipedia.org/wiki/Leonhard_Euler\">\n",
    "    <img src=\"images/Leonhard_Euler.jpg\" alt=\"Leonhard Euler\" style=\"width:300px; height:400px;\">\n",
    "  </a>\n",
    "</div>"
   ]
  },
  {
   "cell_type": "markdown",
   "id": "2bd00507",
   "metadata": {},
   "source": [
    "<div style=\"\n",
    "    background-color: #ffe4b5; \n",
    "    color: #333; \n",
    "    padding: 15px; \n",
    "    border-radius: 10px; \n",
    "    text-align: center; \n",
    "    font-size: 18px; \n",
    "    font-weight: bold;\n",
    "    box-shadow: 3px 3px 10px rgba(0, 0, 0, 0.1);\">\n",
    "    🔗  Connect with me:  \n",
    "    <br><br>\n",
    "    📌 <a href=\"https://www.linkedin.com/in/jan-eric-keller\" target=\"_blank\" style=\"color: #0077b5; text-decoration: none; font-weight: bold;\">LinkedIn</a>  \n",
    "    <br>\n",
    "    📊 <a href=\"https://www.kaggle.com/whatthedatahastotell\" target=\"_blank\" style=\"color: #20beff; text-decoration: none; font-weight: bold;\">Kaggle</a>  \n",
    "    <br>\n",
    "    🎥 <a href=\"https://www.youtube.com/@ehemAushilfskassierer\" target=\"_blank\" style=\"color: #ff0000; text-decoration: none; font-weight: bold;\">YouTube</a>  \n",
    "    <br>\n",
    "    📸 <a href=\"https://www.instagram.com/ehem.aushilfskassierer/\" target=\"_blank\" style=\"color: #e1306c; text-decoration: none; font-weight: bold;\">Instagram</a>  \n",
    "    <br>\n",
    "    🎵 <a href=\"https://www.tiktok.com/@ehem.aushilfskassierer\" target=\"_blank\" style=\"color: #000000; text-decoration: none; font-weight: bold;\">TikTok</a>  \n",
    "    <br><br>\n",
    "    🚀 If you found this helpful, leave an <span style=\"color: #ff5b33;\">⭐ upvote</span>!  \n",
    "    <br>\n",
    "    💬 Let me know in the comments what you liked or what could be improved!  \n",
    "</div>"
   ]
  }
 ],
 "metadata": {
  "kernelspec": {
   "display_name": "venv",
   "language": "python",
   "name": "python3"
  },
  "language_info": {
   "codemirror_mode": {
    "name": "ipython",
    "version": 3
   },
   "file_extension": ".py",
   "mimetype": "text/x-python",
   "name": "python",
   "nbconvert_exporter": "python",
   "pygments_lexer": "ipython3",
   "version": "3.13.2"
  }
 },
 "nbformat": 4,
 "nbformat_minor": 5
}
