{
 "cells": [
  {
   "cell_type": "markdown",
   "id": "c4565f93",
   "metadata": {},
   "source": [
    "<div style=\"\n",
    "    background-color: #ffddc1; \n",
    "    color: #333; \n",
    "    padding: 15px; \n",
    "    border-radius: 10px; \n",
    "    text-align: center; \n",
    "    font-size: 24px; \n",
    "    font-weight: bold;\n",
    "    box-shadow: 3px 3px 10px rgba(0, 0, 0, 0.1);\">\n",
    "    🧠 Project Euler: Crack math and programming problems! 🔢<br>\n",
    "    <a href=\"https://projecteuler.net/\" style=\"color: #333; text-decoration: underline; font-size: 18px;\">Discover now</a>\n",
    "</div>"
   ]
  },
  {
   "cell_type": "markdown",
   "id": "f393f490",
   "metadata": {},
   "source": [
    "# Project Euler: Problem 021: Amicable Numbers\n",
    "<a href=\"https://projecteuler.net/problem=21\">Task definition</a>\n",
    "\n",
    "\"Let $d(n)$ be defined as the sum of proper divisors of $n$ (numbers less than $n$ which divide evenly into $n$).\n",
    "If $d(a) = b$ and $d(b) = a$, where $a \\neq b$, then $a$ and $b$ are an amicable pair and each of $a$ and $b$ are called amicable numbers.\n",
    "\n",
    "For example, the proper divisors of $220$ are $1, 2, 4, 5, 10, 11, 20, 22, 44, 55$ and $110$; therefore $d(220) = 284$. The proper divisors of $284$ are $1, 2, 4, 71$ and $142$; so $d(284) = 220$.\n",
    "\n",
    "Evaluate the sum of all the amicable numbers under $10000$.\""
   ]
  },
  {
   "cell_type": "code",
   "execution_count": 1,
   "id": "6d24a7fd",
   "metadata": {},
   "outputs": [],
   "source": [
    "a = 220\n",
    "b = 284"
   ]
  },
  {
   "cell_type": "code",
   "execution_count": 2,
   "id": "1134a340",
   "metadata": {},
   "outputs": [
    {
     "data": {
      "text/plain": [
       "[1, 2, 4, 5, 10, 11, 20, 22, 44, 55, 110]"
      ]
     },
     "execution_count": 2,
     "metadata": {},
     "output_type": "execute_result"
    }
   ],
   "source": [
    "lstA = []\n",
    "for i in range(1, 220//2 + 1):\n",
    "    if 220 % i == 0:\n",
    "        lstA.append(i)\n",
    "\n",
    "lstA"
   ]
  },
  {
   "cell_type": "code",
   "execution_count": null,
   "id": "8d9563c6",
   "metadata": {},
   "outputs": [],
   "source": [
    "def getDivider(x: int) -> list:\n",
    "    lst = []\n",
    "    for i in range(1, x//2 + 1):\n",
    "        if x % i == 0:\n",
    "            lst.append(i)\n",
    "\n",
    "    return lst"
   ]
  },
  {
   "cell_type": "code",
   "execution_count": 4,
   "id": "7449fbaf",
   "metadata": {},
   "outputs": [
    {
     "data": {
      "text/plain": [
       "[1, 2, 4, 71, 142]"
      ]
     },
     "execution_count": 4,
     "metadata": {},
     "output_type": "execute_result"
    }
   ],
   "source": [
    "lstB = getDivider(b)\n",
    "lstB"
   ]
  },
  {
   "cell_type": "code",
   "execution_count": 5,
   "id": "f885758d",
   "metadata": {},
   "outputs": [
    {
     "data": {
      "text/plain": [
       "284"
      ]
     },
     "execution_count": 5,
     "metadata": {},
     "output_type": "execute_result"
    }
   ],
   "source": [
    "sum(lstA)"
   ]
  },
  {
   "cell_type": "code",
   "execution_count": null,
   "id": "7bd2a57a",
   "metadata": {},
   "outputs": [],
   "source": [
    "def getAmicableNumbers(x):\n",
    "    lstX = getDivider(x)\n",
    "    y = sum(lstX)\n",
    "    lstY = getDivider(y)\n",
    "    z = sum(lstY)\n",
    "    if z == x and x != y:\n",
    "        return x, y\n",
    "    return False"
   ]
  },
  {
   "cell_type": "code",
   "execution_count": 7,
   "id": "3ae7646b",
   "metadata": {},
   "outputs": [
    {
     "data": {
      "text/plain": [
       "(220, 284)"
      ]
     },
     "execution_count": 7,
     "metadata": {},
     "output_type": "execute_result"
    }
   ],
   "source": [
    "getAmicableNumbers(a)"
   ]
  },
  {
   "cell_type": "code",
   "execution_count": 12,
   "id": "dc4c4adb",
   "metadata": {},
   "outputs": [],
   "source": [
    "lst = []\n",
    "lst2 = []\n",
    "for i in range(1, 10000):\n",
    "    if i in lst2:\n",
    "        continue\n",
    "    t = getAmicableNumbers(i)\n",
    "    if t != False and t[1] < 10000:\n",
    "        lst.extend(t)\n",
    "        lst2.append(t[1])"
   ]
  },
  {
   "cell_type": "code",
   "execution_count": 9,
   "id": "09a5a9b8",
   "metadata": {},
   "outputs": [
    {
     "data": {
      "text/plain": [
       "[220, 284, 1184, 1210, 2620, 2924, 5020, 5564, 6232, 6368]"
      ]
     },
     "execution_count": 9,
     "metadata": {},
     "output_type": "execute_result"
    }
   ],
   "source": [
    "lst"
   ]
  },
  {
   "cell_type": "code",
   "execution_count": 10,
   "id": "0793b39e",
   "metadata": {},
   "outputs": [
    {
     "data": {
      "text/plain": [
       "31626"
      ]
     },
     "execution_count": 10,
     "metadata": {},
     "output_type": "execute_result"
    }
   ],
   "source": [
    "sum(lst)"
   ]
  },
  {
   "cell_type": "markdown",
   "id": "87885c0f",
   "metadata": {},
   "source": [
    "<div style=\"text-align: center;\">\n",
    "  <a href=\"https://de.wikipedia.org/wiki/Leonhard_Euler\">\n",
    "    <img src=\"images/Leonhard_Euler.jpg\" alt=\"Leonhard Euler\" style=\"width:300px; height:400px;\">\n",
    "  </a>\n",
    "</div>"
   ]
  },
  {
   "cell_type": "markdown",
   "id": "2bd00507",
   "metadata": {},
   "source": [
    "<div style=\"\n",
    "    background-color: #ffe4b5; \n",
    "    color: #333; \n",
    "    padding: 15px; \n",
    "    border-radius: 10px; \n",
    "    text-align: center; \n",
    "    font-size: 18px; \n",
    "    font-weight: bold;\n",
    "    box-shadow: 3px 3px 10px rgba(0, 0, 0, 0.1);\">\n",
    "    🔗  Connect with me:  \n",
    "    <br><br>\n",
    "    📌 <a href=\"https://www.linkedin.com/in/jan-eric-keller\" target=\"_blank\" style=\"color: #0077b5; text-decoration: none; font-weight: bold;\">LinkedIn</a>  \n",
    "    <br>\n",
    "    📊 <a href=\"https://www.kaggle.com/whatthedatahastotell\" target=\"_blank\" style=\"color: #20beff; text-decoration: none; font-weight: bold;\">Kaggle</a>  \n",
    "    <br>\n",
    "    🎥 <a href=\"https://www.youtube.com/@ehemAushilfskassierer\" target=\"_blank\" style=\"color: #ff0000; text-decoration: none; font-weight: bold;\">YouTube</a>  \n",
    "    <br>\n",
    "    📸 <a href=\"https://www.instagram.com/ehem.aushilfskassierer/\" target=\"_blank\" style=\"color: #e1306c; text-decoration: none; font-weight: bold;\">Instagram</a>  \n",
    "    <br>\n",
    "    🎵 <a href=\"https://www.tiktok.com/@ehem.aushilfskassierer\" target=\"_blank\" style=\"color: #000000; text-decoration: none; font-weight: bold;\">TikTok</a>  \n",
    "    <br><br>\n",
    "    🚀 If you found this helpful, leave an <span style=\"color: #ff5b33;\">⭐ upvote</span>!  \n",
    "    <br>\n",
    "    💬 Let me know in the comments what you liked or what could be improved!  \n",
    "</div>"
   ]
  }
 ],
 "metadata": {
  "kernelspec": {
   "display_name": "Python 3",
   "language": "python",
   "name": "python3"
  },
  "language_info": {
   "codemirror_mode": {
    "name": "ipython",
    "version": 3
   },
   "file_extension": ".py",
   "mimetype": "text/x-python",
   "name": "python",
   "nbconvert_exporter": "python",
   "pygments_lexer": "ipython3",
   "version": "3.13.2"
  }
 },
 "nbformat": 4,
 "nbformat_minor": 5
}
