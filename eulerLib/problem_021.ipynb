{
 "cells": [
  {
   "cell_type": "markdown",
   "id": "c4565f93",
   "metadata": {},
   "source": [
    "<div style=\"\n",
    "    background-color: #ffddc1; \n",
    "    color: #333; \n",
    "    padding: 15px; \n",
    "    border-radius: 10px; \n",
    "    text-align: center; \n",
    "    font-size: 24px; \n",
    "    font-weight: bold;\n",
    "    box-shadow: 3px 3px 10px rgba(0, 0, 0, 0.1);\">\n",
    "    🧠 Project Euler: Crack math and programming problems! 🔢<br>\n",
    "    <a href=\"https://projecteuler.net/\" style=\"color: #333; text-decoration: underline; font-size: 18px;\">Discover now</a>\n",
    "</div>"
   ]
  },
  {
   "cell_type": "markdown",
   "id": "f393f490",
   "metadata": {},
   "source": [
    "# Project Euler: Problem 021: Amicable Numbers\n",
    "<a href=\"https://projecteuler.net/problem=21\">Task definition</a>\n",
    "\n",
    "\"Let $d(n)$ be defined as the sum of proper divisors of $n$ (numbers less than $n$ which divide evenly into $n$).\n",
    "If $d(a) = b$ and $d(b) = a$, where $a \\neq b$, then $a$ and $b$ are an amicable pair and each of $a$ and $b$ are called amicable numbers.\n",
    "\n",
    "For example, the proper divisors of $220$ are $1, 2, 4, 5, 10, 11, 20, 22, 44, 55$ and $110$; therefore $d(220) = 284$. The proper divisors of $284$ are $1, 2, 4, 71$ and $142$; so $d(284) = 220$.\n",
    "\n",
    "Evaluate the sum of all the amicable numbers under $10000$.\""
   ]
  },
  {
   "metadata": {},
   "cell_type": "markdown",
   "source": "#### Set a = 220 and b = 284",
   "id": "f0ab9e25ed675a95"
  },
  {
   "cell_type": "code",
   "id": "6d24a7fd",
   "metadata": {
    "ExecuteTime": {
     "end_time": "2025-10-16T19:14:45.812586Z",
     "start_time": "2025-10-16T19:14:45.802962Z"
    }
   },
   "source": [
    "a = 220\n",
    "b = 284"
   ],
   "outputs": [],
   "execution_count": 1
  },
  {
   "metadata": {},
   "cell_type": "markdown",
   "source": "#### Create a list and get all divisors",
   "id": "5ef97b8d41726f1e"
  },
  {
   "cell_type": "code",
   "id": "1134a340",
   "metadata": {
    "ExecuteTime": {
     "end_time": "2025-10-16T19:14:48.065160Z",
     "start_time": "2025-10-16T19:14:48.053308Z"
    }
   },
   "source": [
    "lstA = []\n",
    "\n",
    "for i in range(1, a//2 + 1):\n",
    "    if a % i == 0:\n",
    "        lstA.append(i)\n",
    "\n",
    "lstA"
   ],
   "outputs": [
    {
     "data": {
      "text/plain": [
       "[1, 2, 4, 5, 10, 11, 20, 22, 44, 55, 110]"
      ]
     },
     "execution_count": 2,
     "metadata": {},
     "output_type": "execute_result"
    }
   ],
   "execution_count": 2
  },
  {
   "metadata": {},
   "cell_type": "markdown",
   "source": "#### Make a function to get all divisors",
   "id": "76bb62467ed21d6e"
  },
  {
   "cell_type": "code",
   "id": "8d9563c6",
   "metadata": {
    "ExecuteTime": {
     "end_time": "2025-10-16T19:14:49.740700Z",
     "start_time": "2025-10-16T19:14:49.733617Z"
    }
   },
   "source": [
    "def getDivisors(x: int) -> list:\n",
    "    lst = []\n",
    "    for i in range(1, x//2 + 1):\n",
    "        if x % i == 0:\n",
    "            lst.append(i)\n",
    "    return lst"
   ],
   "outputs": [],
   "execution_count": 3
  },
  {
   "metadata": {},
   "cell_type": "markdown",
   "source": "#### Use the function to get a list for `b`",
   "id": "8bac1f3ec131f0d0"
  },
  {
   "cell_type": "code",
   "id": "7449fbaf",
   "metadata": {
    "ExecuteTime": {
     "end_time": "2025-10-16T19:14:51.366981Z",
     "start_time": "2025-10-16T19:14:51.356832Z"
    }
   },
   "source": [
    "lstB = getDivisors(b)\n",
    "lstB"
   ],
   "outputs": [
    {
     "data": {
      "text/plain": [
       "[1, 2, 4, 71, 142]"
      ]
     },
     "execution_count": 4,
     "metadata": {},
     "output_type": "execute_result"
    }
   ],
   "execution_count": 4
  },
  {
   "metadata": {},
   "cell_type": "markdown",
   "source": "#### Print sum of lists",
   "id": "e950e4a48c52bf4c"
  },
  {
   "cell_type": "code",
   "id": "f885758d",
   "metadata": {
    "ExecuteTime": {
     "end_time": "2025-10-16T19:14:53.065129Z",
     "start_time": "2025-10-16T19:14:53.060537Z"
    }
   },
   "source": [
    "print(sum(lstA))\n",
    "print(sum(lstB))"
   ],
   "outputs": [
    {
     "name": "stdout",
     "output_type": "stream",
     "text": [
      "284\n",
      "220\n"
     ]
    }
   ],
   "execution_count": 5
  },
  {
   "metadata": {},
   "cell_type": "markdown",
   "source": "#### Create a new function that calls the first for all divisors",
   "id": "fad399df7c8d598d"
  },
  {
   "metadata": {
    "ExecuteTime": {
     "end_time": "2025-10-16T19:17:19.845285Z",
     "start_time": "2025-10-16T19:17:19.837038Z"
    }
   },
   "cell_type": "code",
   "source": [
    "def getAmicableNumbers(x):\n",
    "    lstX = getDivisors(x)\n",
    "    y = sum(lstX)\n",
    "    lstY = getDivisors(y)\n",
    "    z = sum(lstY)\n",
    "    if z == x and x != y:\n",
    "        return x, y\n",
    "    return False"
   ],
   "id": "7bd2a57a",
   "outputs": [],
   "execution_count": 6
  },
  {
   "metadata": {},
   "cell_type": "markdown",
   "source": "#### Run the function with a = 220",
   "id": "c11928b46a0acfe1"
  },
  {
   "cell_type": "code",
   "id": "3ae7646b",
   "metadata": {
    "ExecuteTime": {
     "end_time": "2025-10-16T19:17:29.078376Z",
     "start_time": "2025-10-16T19:17:29.071117Z"
    }
   },
   "source": "getAmicableNumbers(a)",
   "outputs": [
    {
     "data": {
      "text/plain": [
       "(220, 284)"
      ]
     },
     "execution_count": 7,
     "metadata": {},
     "output_type": "execute_result"
    }
   ],
   "execution_count": 7
  },
  {
   "metadata": {},
   "cell_type": "markdown",
   "source": "#### Create two list and run it for `range(1, 10000)`, continue if value in the second list",
   "id": "5122c0b6ea9bdeae"
  },
  {
   "cell_type": "code",
   "id": "dc4c4adb",
   "metadata": {
    "ExecuteTime": {
     "end_time": "2025-10-16T19:20:27.256164Z",
     "start_time": "2025-10-16T19:20:20.598962Z"
    }
   },
   "source": [
    "lst = []\n",
    "lst2 = []\n",
    "for i in range(1, 10000):\n",
    "    if i in lst2:\n",
    "        continue\n",
    "    t = getAmicableNumbers(i)\n",
    "    if t != False and t[1] < 10000:\n",
    "        lst.extend(t)\n",
    "        lst2.append(t[1])"
   ],
   "outputs": [],
   "execution_count": 8
  },
  {
   "cell_type": "code",
   "id": "09a5a9b8",
   "metadata": {
    "ExecuteTime": {
     "end_time": "2025-10-16T19:20:27.278870Z",
     "start_time": "2025-10-16T19:20:27.268994Z"
    }
   },
   "source": "lst",
   "outputs": [
    {
     "data": {
      "text/plain": [
       "[220, 284, 1184, 1210, 2620, 2924, 5020, 5564, 6232, 6368]"
      ]
     },
     "execution_count": 9,
     "metadata": {},
     "output_type": "execute_result"
    }
   ],
   "execution_count": 9
  },
  {
   "metadata": {},
   "cell_type": "markdown",
   "source": "#### Sum list to find the target value",
   "id": "abad8ec897d54da7"
  },
  {
   "cell_type": "code",
   "id": "0793b39e",
   "metadata": {
    "ExecuteTime": {
     "end_time": "2025-10-16T19:20:36.255109Z",
     "start_time": "2025-10-16T19:20:36.245691Z"
    }
   },
   "source": "sum(lst)",
   "outputs": [
    {
     "data": {
      "text/plain": [
       "31626"
      ]
     },
     "execution_count": 10,
     "metadata": {},
     "output_type": "execute_result"
    }
   ],
   "execution_count": 10
  },
  {
   "cell_type": "markdown",
   "id": "87885c0f",
   "metadata": {},
   "source": [
    "<div style=\"text-align: center;\">\n",
    "  <a href=\"https://de.wikipedia.org/wiki/Leonhard_Euler\">\n",
    "    <img src=\"images/Leonhard_Euler.jpg\" alt=\"Leonhard Euler\" style=\"width:300px; height:400px;\">\n",
    "  </a>\n",
    "</div>"
   ]
  },
  {
   "cell_type": "markdown",
   "id": "2bd00507",
   "metadata": {},
   "source": [
    "<div style=\"\n",
    "    background-color: #ffe4b5; \n",
    "    color: #333; \n",
    "    padding: 15px; \n",
    "    border-radius: 10px; \n",
    "    text-align: center; \n",
    "    font-size: 18px; \n",
    "    font-weight: bold;\n",
    "    box-shadow: 3px 3px 10px rgba(0, 0, 0, 0.1);\">\n",
    "    🔗  Connect with me:  \n",
    "    <br><br>\n",
    "    📌 <a href=\"https://www.linkedin.com/in/jan-eric-keller\" target=\"_blank\" style=\"color: #0077b5; text-decoration: none; font-weight: bold;\">LinkedIn</a>  \n",
    "    <br>\n",
    "    📊 <a href=\"https://www.kaggle.com/whatthedatahastotell\" target=\"_blank\" style=\"color: #20beff; text-decoration: none; font-weight: bold;\">Kaggle</a>  \n",
    "    <br>\n",
    "    🎥 <a href=\"https://www.youtube.com/@ehemAushilfskassierer\" target=\"_blank\" style=\"color: #ff0000; text-decoration: none; font-weight: bold;\">YouTube</a>  \n",
    "    <br>\n",
    "    📸 <a href=\"https://www.instagram.com/ehem.aushilfskassierer/\" target=\"_blank\" style=\"color: #e1306c; text-decoration: none; font-weight: bold;\">Instagram</a>  \n",
    "    <br>\n",
    "    🎵 <a href=\"https://www.tiktok.com/@ehem.aushilfskassierer\" target=\"_blank\" style=\"color: #000000; text-decoration: none; font-weight: bold;\">TikTok</a>  \n",
    "    <br><br>\n",
    "    🚀 If you found this helpful, leave an <span style=\"color: #ff5b33;\">⭐ upvote</span>!  \n",
    "    <br>\n",
    "    💬 Let me know in the comments what you liked or what could be improved!  \n",
    "</div>"
   ]
  }
 ],
 "metadata": {
  "kernelspec": {
   "display_name": "Python 3",
   "language": "python",
   "name": "python3"
  },
  "language_info": {
   "codemirror_mode": {
    "name": "ipython",
    "version": 3
   },
   "file_extension": ".py",
   "mimetype": "text/x-python",
   "name": "python",
   "nbconvert_exporter": "python",
   "pygments_lexer": "ipython3",
   "version": "3.13.2"
  }
 },
 "nbformat": 4,
 "nbformat_minor": 5
}
