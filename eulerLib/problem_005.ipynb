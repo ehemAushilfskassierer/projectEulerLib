{
 "cells": [
  {
   "cell_type": "markdown",
   "id": "c4565f93",
   "metadata": {},
   "source": [
    "<div style=\"\n",
    "    background-color: #ffddc1; \n",
    "    color: #333; \n",
    "    padding: 15px; \n",
    "    border-radius: 10px; \n",
    "    text-align: center; \n",
    "    font-size: 24px; \n",
    "    font-weight: bold;\n",
    "    box-shadow: 3px 3px 10px rgba(0, 0, 0, 0.1);\">\n",
    "    🧠 Project Euler: Crack math and programming problems! 🔢<br>\n",
    "    <a href=\"https://projecteuler.net/\" style=\"color: #333; text-decoration: underline; font-size: 18px;\">Discover now</a>\n",
    "</div>"
   ]
  },
  {
   "cell_type": "markdown",
   "id": "f393f490",
   "metadata": {},
   "source": [
    "# Project Euler: Problem 005: Smallest Multiple\n",
    "<a href=\"https://projecteuler.net/problem=5\">Task definition</a>\n",
    "\n",
    "\n",
    "\"2520 is the smallest number that can be divided by each of the numbers from 1 to 10 without any remainder.\n",
    "What is the smallest positive number that is evenly divisible by all of the numbers from 1 to 20?\""
   ]
  },
  {
   "cell_type": "code",
   "execution_count": null,
   "id": "9177b16c",
   "metadata": {},
   "outputs": [],
   "source": [
    "highestDivider = 10\n",
    "\n",
    "divisor = 2\n",
    "\n",
    "a = highestDivider\n",
    "\n",
    "while divisor <= highestDivider:\n",
    "    if a % divisor == 0:\n",
    "        divisor += 1\n",
    "    else:\n",
    "        a += highestDivider\n",
    "        divisor = 2\n",
    "\n",
    "print(f\"{a = }\")\n",
    "        "
   ]
  },
  {
   "cell_type": "code",
   "execution_count": null,
   "id": "51783a0d",
   "metadata": {},
   "outputs": [],
   "source": [
    "def findSmallestMultiple(highestDivider: int, showAllDivision: bool = False) -> int:\n",
    "    \"\"\"\n",
    "    Find the smallest multiple for the numberst from 1 up til the highestDivider.\n",
    "\n",
    "    Args:\n",
    "        highestDivider (int): The highest Divider, must be bigger than > 1.\n",
    "        showAllDivision (bool): If True, prints all divisors and result.\n",
    "\n",
    "    Return:\n",
    "        int: Returns the smallest multiple for all numbers from highestDivider and below.\n",
    "    \"\"\"\n",
    "    assert isinstance(highestDivider, int) and highestDivider > 1, \"highestDivider must be an Integer and > 1.\"\n",
    "    assert isinstance(showAllDivision, bool), \"showAllDivision must be a Boolean.\"\n",
    "\n",
    "    a = highestDivider\n",
    "    divider = 2\n",
    "\n",
    "    while divider <= highestDivider:\n",
    "        if a % divider == 0:\n",
    "            divider += 1\n",
    "        else:\n",
    "            a += highestDivider\n",
    "            divider = 2\n",
    "\n",
    "    if showAllDivision:\n",
    "        for i in range(2, highestDivider + 1):\n",
    "            print(f\"{a} / {i} = {a/i}\")\n",
    "\n",
    "    return a\n"
   ]
  },
  {
   "cell_type": "code",
   "execution_count": null,
   "id": "d13121ad",
   "metadata": {},
   "outputs": [],
   "source": [
    "findSmallestMultiple(10, True)"
   ]
  },
  {
   "cell_type": "code",
   "execution_count": null,
   "id": "557321a7",
   "metadata": {},
   "outputs": [],
   "source": [
    "findSmallestMultiple(20)"
   ]
  },
  {
   "cell_type": "markdown",
   "id": "87885c0f",
   "metadata": {},
   "source": [
    "<div style=\"text-align: center;\">\n",
    "  <a href=\"https://de.wikipedia.org/wiki/Leonhard_Euler\">\n",
    "    <img src=\"images/Leonhard_Euler.jpg\" alt=\"Leonhard Euler\" style=\"width:300px; height:400px;\">\n",
    "  </a>\n",
    "</div>"
   ]
  },
  {
   "cell_type": "markdown",
   "id": "2bd00507",
   "metadata": {},
   "source": [
    "<div style=\"\n",
    "    background-color: #ffe4b5; \n",
    "    color: #333; \n",
    "    padding: 15px; \n",
    "    border-radius: 10px; \n",
    "    text-align: center; \n",
    "    font-size: 18px; \n",
    "    font-weight: bold;\n",
    "    box-shadow: 3px 3px 10px rgba(0, 0, 0, 0.1);\">\n",
    "    🔗  Connect with me:  \n",
    "    <br><br>\n",
    "    📌 <a href=\"https://www.linkedin.com/in/jan-eric-keller\" target=\"_blank\" style=\"color: #0077b5; text-decoration: none; font-weight: bold;\">LinkedIn</a>  \n",
    "    <br>\n",
    "    📊 <a href=\"https://www.kaggle.com/whatthedatahastotell\" target=\"_blank\" style=\"color: #20beff; text-decoration: none; font-weight: bold;\">Kaggle</a>  \n",
    "    <br>\n",
    "    🎥 <a href=\"https://www.youtube.com/@ehemAushilfskassierer\" target=\"_blank\" style=\"color: #ff0000; text-decoration: none; font-weight: bold;\">YouTube</a>  \n",
    "    <br>\n",
    "    📸 <a href=\"https://www.instagram.com/ehem.aushilfskassierer/\" target=\"_blank\" style=\"color: #e1306c; text-decoration: none; font-weight: bold;\">Instagram</a>  \n",
    "    <br>\n",
    "    🎵 <a href=\"https://www.tiktok.com/@ehem.aushilfskassierer\" target=\"_blank\" style=\"color: #000000; text-decoration: none; font-weight: bold;\">TikTok</a>  \n",
    "    <br><br>\n",
    "    🚀 If you found this helpful, leave an <span style=\"color: #ff5b33;\">⭐ upvote</span>!  \n",
    "    <br>\n",
    "    💬 Let me know in the comments what you liked or what could be improved!  \n",
    "</div>"
   ]
  }
 ],
 "metadata": {
  "kernelspec": {
   "display_name": "venv",
   "language": "python",
   "name": "python3"
  },
  "language_info": {
   "codemirror_mode": {
    "name": "ipython",
    "version": 3
   },
   "file_extension": ".py",
   "mimetype": "text/x-python",
   "name": "python",
   "nbconvert_exporter": "python",
   "pygments_lexer": "ipython3",
   "version": "3.13.2"
  }
 },
 "nbformat": 4,
 "nbformat_minor": 5
}
