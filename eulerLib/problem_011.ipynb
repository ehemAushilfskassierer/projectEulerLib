{
 "cells": [
  {
   "cell_type": "markdown",
   "id": "c4565f93",
   "metadata": {},
   "source": [
    "<div style=\"\n",
    "    background-color: #ffddc1; \n",
    "    color: #333; \n",
    "    padding: 15px; \n",
    "    border-radius: 10px; \n",
    "    text-align: center; \n",
    "    font-size: 24px; \n",
    "    font-weight: bold;\n",
    "    box-shadow: 3px 3px 10px rgba(0, 0, 0, 0.1);\">\n",
    "    🧠 Project Euler: Crack math and programming problems! 🔢<br>\n",
    "    <a href=\"https://projecteuler.net/\" style=\"color: #333; text-decoration: underline; font-size: 18px;\">Discover now</a>\n",
    "</div>"
   ]
  },
  {
   "cell_type": "markdown",
   "id": "f393f490",
   "metadata": {},
   "source": [
    "# Project Euler: Problem 011: Largest Product in a Grid\n",
    "<a href=\"https://projecteuler.net/problem=11\">Task definition</a>\n",
    "\n",
    "\n",
    "\"In the $20$ x $20$ grid below, four numbers along a diagonal line have been marked in red.\n",
    "The product of these numbers is $26 * 63 * 78 * 14 = 1788696$.\n",
    "  \n",
    "08 02 22 97 38 15 00 40 00 75 04 05 07 78 52 12 50 77 91 08  \n",
    "49 49 99 40 17 81 18 57 60 87 17 40 98 43 69 48 04 56 62 00  \n",
    "81 49 31 73 55 79 14 29 93 71 40 67 53 88 30 03 49 13 36 65  \n",
    "52 70 95 23 04 60 11 42 69 24 68 56 01 32 56 71 37 02 36 91  \n",
    "22 31 16 71 51 67 63 89 41 92 36 54 22 40 40 28 66 33 13 80  \n",
    "24 47 32 60 99 03 45 02 44 75 33 53 78 36 84 20 35 17 12 50  \n",
    "32 98 81 28 64 23 67 10 **26** 38 40 67 59 54 70 66 18 38 64 70  \n",
    "67 26 20 68 02 62 12 20 95 **63** 94 39 63 08 40 91 66 49 94 21  \n",
    "24 55 58 05 66 73 99 26 97 17 **78** 78 96 83 14 88 34 89 63 72  \n",
    "21 36 23 09 75 00 76 44 20 45 35 **14** 00 61 33 97 34 31 33 95  \n",
    "78 17 53 28 22 75 31 67 15 94 03 80 04 62 16 14 09 53 56 92  \n",
    "16 39 05 42 96 35 31 47 55 58 88 24 00 17 54 24 36 29 85 57  \n",
    "86 56 00 48 35 71 89 07 05 44 44 37 44 60 21 58 51 54 17 58  \n",
    "19 80 81 68 05 94 47 69 28 73 92 13 86 52 17 77 04 89 55 40  \n",
    "04 52 08 83 97 35 99 16 07 97 57 32 16 26 26 79 33 27 98 66  \n",
    "88 36 68 87 57 62 20 72 03 46 33 67 46 55 12 32 63 93 53 69  \n",
    "04 42 16 73 38 25 39 11 24 94 72 18 08 46 29 32 40 62 76 36  \n",
    "20 69 36 41 72 30 23 88 34 62 99 69 82 67 59 85 74 04 36 16  \n",
    "20 73 35 29 78 31 90 01 74 31 49 71 48 86 81 16 23 57 05 54  \n",
    "01 70 54 71 83 51 54 69 16 92 33 48 61 43 52 01 89 19 67 48\n",
    "\n",
    "What is the greatest product of four adjacent numbers in the same direction (up, down, left, right, or diagonally) in the $20$ x $20$ grid?\""
   ]
  },
  {
   "cell_type": "code",
   "execution_count": null,
   "id": "3edf56e7",
   "metadata": {},
   "outputs": [],
   "source": [
    "grid = [\n",
    "    [8, 2, 22, 97, 38, 15, 0, 40, 0, 75, 4, 5, 7, 78, 52, 12, 50, 77, 91, 8],\n",
    "    [49, 49, 99, 40, 17, 81, 18, 57, 60, 87, 17, 40, 98, 43, 69, 48, 4, 56, 62, 0],\n",
    "    [81, 49, 31, 73, 55, 79, 14, 29, 93, 71, 40, 67, 53, 88, 30, 3, 49, 13, 36, 65],\n",
    "    [52, 70, 95, 23, 4, 60, 11, 42, 69, 24, 68, 56, 1, 32, 56, 71, 37, 2, 36, 91],\n",
    "    [22, 31, 16, 71, 51, 67, 63, 89, 41, 92, 36, 54, 22, 40, 40, 28, 66, 33, 13, 80],\n",
    "    [24, 47, 32, 60, 99, 3, 45, 2, 44, 75, 33, 53, 78, 36, 84, 20, 35, 17, 12, 50],\n",
    "    [32, 98, 81, 28, 64, 23, 67, 10, 26, 38, 40, 67, 59, 54, 70, 66, 18, 38, 64, 70],\n",
    "    [67, 26, 20, 68, 2, 62, 12, 20, 95, 63, 94, 39, 63, 8, 40, 91, 66, 49, 94, 21],\n",
    "    [24, 55, 58, 5, 66, 73, 99, 26, 97, 17, 78, 78, 96, 83, 14, 88, 34, 89, 63, 72],\n",
    "    [21, 36, 23, 9, 75, 0, 76, 44, 20, 45, 35, 14, 0, 61, 33, 97, 34, 31, 33, 95],\n",
    "    [78, 17, 53, 28, 22, 75, 31, 67, 15, 94, 3, 80, 4, 62, 16, 14, 9, 53, 56, 92],\n",
    "    [16, 39, 5, 42, 96, 35, 31, 47, 55, 58, 88, 24, 0, 17, 54, 24, 36, 29, 85, 57],\n",
    "    [86, 56, 0, 48, 35, 71, 89, 7, 5, 44, 44, 37, 44, 60, 21, 58, 51, 54, 17, 58],\n",
    "    [19, 80, 81, 68, 5, 94, 47, 69, 28, 73, 92, 13, 86, 52, 17, 77, 4, 89, 55, 40],\n",
    "    [4, 52, 8, 83, 97, 35, 99, 16, 7, 97, 57, 32, 16, 26, 26, 79, 33, 27, 98, 66],\n",
    "    [88, 36, 68, 87, 57, 62, 20, 72, 3, 46, 33, 67, 46, 55, 12, 32, 63, 93, 53, 69],\n",
    "    [4, 42, 16, 73, 38, 25, 39, 11, 24, 94, 72, 18, 8, 46, 29, 32, 40, 62, 76, 36],\n",
    "    [20, 69, 36, 41, 72, 30, 23, 88, 34, 62, 99, 69, 82, 67, 59, 85, 74, 4, 36, 16],\n",
    "    [20, 73, 35, 29, 78, 31, 90, 1, 74, 31, 49, 71, 48, 86, 81, 16, 23, 57, 5, 54],\n",
    "    [1, 70, 54, 71, 83, 51, 54, 69, 16, 92, 33, 48, 61, 43, 52, 1, 89, 19, 67, 48]\n",
    "]"
   ]
  },
  {
   "cell_type": "code",
   "execution_count": null,
   "id": "3c9077eb",
   "metadata": {},
   "outputs": [],
   "source": [
    "max_product = 0\n",
    "max_info = {}\n",
    "\n",
    "rows = len(grid)\n",
    "cols = len(grid[0])"
   ]
  },
  {
   "cell_type": "markdown",
   "id": "c503922c",
   "metadata": {},
   "source": [
    "##### Horizontal ➡️"
   ]
  },
  {
   "cell_type": "code",
   "execution_count": null,
   "id": "49712b88",
   "metadata": {},
   "outputs": [],
   "source": [
    "for row in range(rows):\n",
    "    for col in range(cols):\n",
    "        # Horizontal ➡️\n",
    "        if col + 3 < cols:\n",
    "            a, b, c, d = grid[row][col:col+4]\n",
    "            product = a * b * c * d\n",
    "            if product > max_product:\n",
    "                max_product = product\n",
    "                max_info = {\n",
    "                    'dir': 'horizontal ➡️',\n",
    "                    'values': (a, b, c, d),\n",
    "                    'pos': [(row, col+i) for i in range(4)]}"
   ]
  },
  {
   "cell_type": "markdown",
   "id": "ceb3a242",
   "metadata": {},
   "source": [
    "##### Vertical ⬇️"
   ]
  },
  {
   "cell_type": "code",
   "execution_count": null,
   "id": "c177a1d2",
   "metadata": {},
   "outputs": [],
   "source": [
    "for row in range(rows):\n",
    "    for col in range(cols):\n",
    "        # Vertical ⬇️\n",
    "        if row + 3 < rows:\n",
    "            a = grid[row][col]\n",
    "            b = grid[row+1][col]\n",
    "            c = grid[row+2][col]\n",
    "            d = grid[row+3][col]\n",
    "            product = a * b * c * d\n",
    "            if product > max_product:\n",
    "                max_product = product\n",
    "                max_info = {\n",
    "                    'dir': 'vertical ⬇️',\n",
    "                    'values': (a, b, c, d),\n",
    "                    'pos': [(row+i, col) for i in range(4)]\n",
    "                        }"
   ]
  },
  {
   "cell_type": "markdown",
   "id": "bbed6dbf",
   "metadata": {},
   "source": [
    "##### Diagonal ↘️"
   ]
  },
  {
   "cell_type": "code",
   "execution_count": null,
   "id": "58542666",
   "metadata": {},
   "outputs": [],
   "source": [
    "for row in range(rows):\n",
    "    for col in range(cols):\n",
    "        # Diagonal ↘️\n",
    "        if row + 3 < rows and col + 3 < cols:\n",
    "            a = grid[row][col]\n",
    "            b = grid[row+1][col+1]\n",
    "            c = grid[row+2][col+2]\n",
    "            d = grid[row+3][col+3]\n",
    "            product = a * b * c * d\n",
    "            if product > max_product:\n",
    "                max_product = product  \n",
    "                max_info = {\n",
    "                    'dir': 'diagonal ↘️',\n",
    "                    'values': (a, b, c, d),\n",
    "                    'pos': [(row+i, col+i) for i in range(4)]\n",
    "                    }"
   ]
  },
  {
   "cell_type": "markdown",
   "id": "b2148d26",
   "metadata": {},
   "source": [
    "##### Diagonal ↙️"
   ]
  },
  {
   "cell_type": "code",
   "execution_count": null,
   "id": "5f81b6d0",
   "metadata": {},
   "outputs": [],
   "source": [
    "for row in range(rows):\n",
    "    for col in range(cols):\n",
    "        # Diagonal ↙️\n",
    "        if row - 3 >= 0 and col + 3 < cols:\n",
    "            a = grid[row][col]\n",
    "            b = grid[row-1][col+1]\n",
    "            c = grid[row-2][col+2]\n",
    "            d = grid[row-3][col+3]\n",
    "            product = a * b * c * d\n",
    "            if product > max_product:\n",
    "                max_product = product\n",
    "                max_info = {\n",
    "                    'dir': 'diagonal ↙️',\n",
    "                    'values': (a, b, c, d),\n",
    "                    'pos': [(row-i, col+i) for i in range(4)]\n",
    "                    }\n",
    "\n"
   ]
  },
  {
   "cell_type": "markdown",
   "id": "1bf7a8d8",
   "metadata": {},
   "source": [
    "##### Check Max"
   ]
  },
  {
   "cell_type": "code",
   "execution_count": null,
   "id": "576d9c39",
   "metadata": {},
   "outputs": [],
   "source": [
    "a, b, c, d = max_info['values']\n",
    "print(f\"Max product: {max_product}\")\n",
    "print(f\"Direction: {max_info['dir']}\")\n",
    "print(f\"Values: {a} * {b} * {c} * {d}\")\n",
    "print(f\"Positions: {max_info['pos']}\")"
   ]
  },
  {
   "cell_type": "markdown",
   "id": "a5400743",
   "metadata": {},
   "source": [
    "##### Show in grid"
   ]
  },
  {
   "cell_type": "markdown",
   "id": "41ef16fc",
   "metadata": {},
   "source": [
    "08 02 22 97 38 15 00 40 00 75 04 05 07 78 52 12 50 77 91 08  \n",
    "49 49 99 40 17 81 18 57 60 87 17 40 98 43 69 48 04 56 62 00  \n",
    "81 49 31 73 55 79 14 29 93 71 40 67 53 88 30 03 49 13 36 65  \n",
    "52 70 95 23 04 60 11 42 69 24 68 56 01 32 56 71 37 02 36 91  \n",
    "22 31 16 71 51 67 63 89 41 92 36 54 22 40 40 28 66 33 13 80  \n",
    "24 47 32 60 99 03 45 02 44 75 33 53 78 36 84 20 35 17 12 50  \n",
    "32 98 81 28 64 23 67 10 26 38 40 67 59 54 70 66 18 38 64 70  \n",
    "67 26 20 68 02 62 12 20 95 63 94 39 63 08 40 91 66 49 94 21  \n",
    "24 55 58 05 66 73 99 26 97 17 78 78 96 83 14 88 34 89 63 72  \n",
    "21 36 23 09 75 00 76 44 20 45 35 14 00 61 33 97 34 31 33 95  \n",
    "78 17 53 28 22 75 31 67 15 94 03 80 04 62 16 14 09 53 56 92  \n",
    "16 39 05 42 96 35 31 47 55 58 88 24 00 17 54 24 36 29 85 57  \n",
    "86 56 00 48 35 71 **89** 07 05 44 44 37 44 60 21 58 51 54 17 58  \n",
    "19 80 81 68 05 **94** 47 69 28 73 92 13 86 52 17 77 04 89 55 40  \n",
    "04 52 08 83 **97** 35 99 16 07 97 57 32 16 26 26 79 33 27 98 66  \n",
    "88 36 68 **87** 57 62 20 72 03 46 33 67 46 55 12 32 63 93 53 69  \n",
    "04 42 16 73 38 25 39 11 24 94 72 18 08 46 29 32 40 62 76 36  \n",
    "20 69 36 41 72 30 23 88 34 62 99 69 82 67 59 85 74 04 36 16  \n",
    "20 73 35 29 78 31 90 01 74 31 49 71 48 86 81 16 23 57 05 54  \n",
    "01 70 54 71 83 51 54 69 16 92 33 48 61 43 52 01 89 19 67 48\n"
   ]
  },
  {
   "cell_type": "markdown",
   "id": "87885c0f",
   "metadata": {},
   "source": [
    "<div style=\"text-align: center;\">\n",
    "  <a href=\"https://de.wikipedia.org/wiki/Leonhard_Euler\">\n",
    "    <img src=\"images/Leonhard_Euler.jpg\" alt=\"Leonhard Euler\" style=\"width:300px; height:400px;\">\n",
    "  </a>\n",
    "</div>"
   ]
  },
  {
   "cell_type": "markdown",
   "id": "2bd00507",
   "metadata": {},
   "source": [
    "<div style=\"\n",
    "    background-color: #ffe4b5; \n",
    "    color: #333; \n",
    "    padding: 15px; \n",
    "    border-radius: 10px; \n",
    "    text-align: center; \n",
    "    font-size: 18px; \n",
    "    font-weight: bold;\n",
    "    box-shadow: 3px 3px 10px rgba(0, 0, 0, 0.1);\">\n",
    "    🔗  Connect with me:  \n",
    "    <br><br>\n",
    "    📌 <a href=\"https://www.linkedin.com/in/jan-eric-keller\" target=\"_blank\" style=\"color: #0077b5; text-decoration: none; font-weight: bold;\">LinkedIn</a>  \n",
    "    <br>\n",
    "    📊 <a href=\"https://www.kaggle.com/whatthedatahastotell\" target=\"_blank\" style=\"color: #20beff; text-decoration: none; font-weight: bold;\">Kaggle</a>  \n",
    "    <br>\n",
    "    🎥 <a href=\"https://www.youtube.com/@ehemAushilfskassierer\" target=\"_blank\" style=\"color: #ff0000; text-decoration: none; font-weight: bold;\">YouTube</a>  \n",
    "    <br>\n",
    "    📸 <a href=\"https://www.instagram.com/ehem.aushilfskassierer/\" target=\"_blank\" style=\"color: #e1306c; text-decoration: none; font-weight: bold;\">Instagram</a>  \n",
    "    <br>\n",
    "    🎵 <a href=\"https://www.tiktok.com/@ehem.aushilfskassierer\" target=\"_blank\" style=\"color: #000000; text-decoration: none; font-weight: bold;\">TikTok</a>  \n",
    "    <br><br>\n",
    "    🚀 If you found this helpful, leave an <span style=\"color: #ff5b33;\">⭐ upvote</span>!  \n",
    "    <br>\n",
    "    💬 Let me know in the comments what you liked or what could be improved!  \n",
    "</div>"
   ]
  }
 ],
 "metadata": {
  "kernelspec": {
   "display_name": "venv",
   "language": "python",
   "name": "python3"
  },
  "language_info": {
   "codemirror_mode": {
    "name": "ipython",
    "version": 3
   },
   "file_extension": ".py",
   "mimetype": "text/x-python",
   "name": "python",
   "nbconvert_exporter": "python",
   "pygments_lexer": "ipython3",
   "version": "3.13.2"
  }
 },
 "nbformat": 4,
 "nbformat_minor": 5
}
