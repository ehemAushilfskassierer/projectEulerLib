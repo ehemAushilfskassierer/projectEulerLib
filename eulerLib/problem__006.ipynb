{
 "cells": [
  {
   "cell_type": "markdown",
   "id": "c4565f93",
   "metadata": {},
   "source": [
    "<div style=\"\n",
    "    background-color: #ffddc1; \n",
    "    color: #333; \n",
    "    padding: 15px; \n",
    "    border-radius: 10px; \n",
    "    text-align: center; \n",
    "    font-size: 24px; \n",
    "    font-weight: bold;\n",
    "    box-shadow: 3px 3px 10px rgba(0, 0, 0, 0.1);\">\n",
    "    🧠 Project Euler: Crack math and programming problems! 🔢<br>\n",
    "    <a href=\"https://projecteuler.net/\" style=\"color: #333; text-decoration: underline; font-size: 18px;\">Discover now</a>\n",
    "</div>"
   ]
  },
  {
   "cell_type": "markdown",
   "id": "f393f490",
   "metadata": {},
   "source": [
    "# Project Euler: Problem 006: Sum Square Difference\n",
    "<a href=\"https://projecteuler.net/problem=6\">Task definition</a>\n",
    "\n",
    "\n",
    "\"The sum of the squares of the first ten natural numbers is,  \n",
    "$1^2 + 2^2 + ... + 10^2 = 385.$\n",
    "\n",
    "The square of the sum of the first ten natural numbers is,  \n",
    "$(1 + 2 + ... + 10)^2 = 55^2 = 3025.$\n",
    "\n",
    "Hence the difference between the sum of the squares of the first ten natural numbers and the square of the sum is  \n",
    "$3025 - 385 = 2640.$\n",
    "\n",
    "Find the difference between the sum of the squares of the first one hundred natural numbers and the square of the sum.\""
   ]
  },
  {
   "cell_type": "code",
   "execution_count": 1,
   "id": "8c6ee387",
   "metadata": {},
   "outputs": [],
   "source": [
    "def sumSquareDifference(highestNumber: int, showCalculation: bool = False) -> int:\n",
    "    \"\"\"\n",
    "    Calculate the difference between the square of the sum and the sum of the squares \n",
    "    of the first 'highestNumber' natural numbers.\n",
    "\n",
    "    Args:\n",
    "        highestNumber (int): The number up to which the calculation is performed (must be >= 1).\n",
    "        showCalculation (bool): If True, prints the intermediate calculation.\n",
    "\n",
    "    Returns:\n",
    "        int: The difference between the square of the sum and the sum of the squares.\n",
    "    \"\"\"\n",
    "    assert isinstance(highestNumber, int) and highestNumber >= 1, \"highestNumber must be an integer >= 1\"\n",
    "    assert isinstance(showCalculation, bool), \"showCalculation must be a boolean\"\n",
    "\n",
    "    sumOfSquares = sum(i**2 for i in range(1, highestNumber + 1))\n",
    "    squareOfSum = sum(range(1, highestNumber + 1)) ** 2\n",
    "\n",
    "    if showCalculation:\n",
    "        print(f\"{squareOfSum} - {sumOfSquares} = {squareOfSum - sumOfSquares}\")\n",
    "\n",
    "    return squareOfSum - sumOfSquares"
   ]
  },
  {
   "cell_type": "code",
   "execution_count": 2,
   "id": "9bb89c0d",
   "metadata": {},
   "outputs": [
    {
     "name": "stdout",
     "output_type": "stream",
     "text": [
      "3025 - 385 = 2640\n"
     ]
    },
    {
     "data": {
      "text/plain": [
       "2640"
      ]
     },
     "execution_count": 2,
     "metadata": {},
     "output_type": "execute_result"
    }
   ],
   "source": [
    "sumSquareDifference(10, True)"
   ]
  },
  {
   "cell_type": "code",
   "execution_count": 3,
   "id": "ddb2b287",
   "metadata": {},
   "outputs": [
    {
     "name": "stdout",
     "output_type": "stream",
     "text": [
      "25502500 - 338350 = 25164150\n"
     ]
    },
    {
     "data": {
      "text/plain": [
       "25164150"
      ]
     },
     "execution_count": 3,
     "metadata": {},
     "output_type": "execute_result"
    }
   ],
   "source": [
    "sumSquareDifference(100, True)"
   ]
  },
  {
   "cell_type": "markdown",
   "id": "87885c0f",
   "metadata": {},
   "source": [
    "<div style=\"text-align: center;\">\n",
    "  <a href=\"https://de.wikipedia.org/wiki/Leonhard_Euler\">\n",
    "    <img src=\"images/Leonhard_Euler.jpg\" alt=\"Leonhard Euler\" style=\"width:300px; height:400px;\">\n",
    "  </a>\n",
    "</div>"
   ]
  },
  {
   "cell_type": "markdown",
   "id": "2bd00507",
   "metadata": {},
   "source": [
    "<div style=\"\n",
    "    background-color: #ffe4b5; \n",
    "    color: #333; \n",
    "    padding: 15px; \n",
    "    border-radius: 10px; \n",
    "    text-align: center; \n",
    "    font-size: 18px; \n",
    "    font-weight: bold;\n",
    "    box-shadow: 3px 3px 10px rgba(0, 0, 0, 0.1);\">\n",
    "    🔗  Connect with me:  \n",
    "    <br><br>\n",
    "    📌 <a href=\"https://www.linkedin.com/in/jan-eric-keller\" target=\"_blank\" style=\"color: #0077b5; text-decoration: none; font-weight: bold;\">LinkedIn</a>  \n",
    "    <br>\n",
    "    📊 <a href=\"https://www.kaggle.com/whatthedatahastotell\" target=\"_blank\" style=\"color: #20beff; text-decoration: none; font-weight: bold;\">Kaggle</a>  \n",
    "    <br>\n",
    "    🎥 <a href=\"https://www.youtube.com/@ehemAushilfskassierer\" target=\"_blank\" style=\"color: #ff0000; text-decoration: none; font-weight: bold;\">YouTube</a>  \n",
    "    <br>\n",
    "    📸 <a href=\"https://www.instagram.com/ehem.aushilfskassierer/\" target=\"_blank\" style=\"color: #e1306c; text-decoration: none; font-weight: bold;\">Instagram</a>  \n",
    "    <br>\n",
    "    🎵 <a href=\"https://www.tiktok.com/@ehem.aushilfskassierer\" target=\"_blank\" style=\"color: #000000; text-decoration: none; font-weight: bold;\">TikTok</a>  \n",
    "    <br><br>\n",
    "    🚀 If you found this helpful, leave an <span style=\"color: #ff5b33;\">⭐ upvote</span>!  \n",
    "    <br>\n",
    "    💬 Let me know in the comments what you liked or what could be improved!  \n",
    "</div>"
   ]
  }
 ],
 "metadata": {
  "kernelspec": {
   "display_name": "venv",
   "language": "python",
   "name": "python3"
  },
  "language_info": {
   "codemirror_mode": {
    "name": "ipython",
    "version": 3
   },
   "file_extension": ".py",
   "mimetype": "text/x-python",
   "name": "python",
   "nbconvert_exporter": "python",
   "pygments_lexer": "ipython3",
   "version": "3.13.2"
  }
 },
 "nbformat": 4,
 "nbformat_minor": 5
}
