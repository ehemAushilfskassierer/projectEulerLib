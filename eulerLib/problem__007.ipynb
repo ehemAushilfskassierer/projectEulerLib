{
 "cells": [
  {
   "cell_type": "markdown",
   "id": "c4565f93",
   "metadata": {},
   "source": [
    "<div style=\"\n",
    "    background-color: #ffddc1; \n",
    "    color: #333; \n",
    "    padding: 15px; \n",
    "    border-radius: 10px; \n",
    "    text-align: center; \n",
    "    font-size: 24px; \n",
    "    font-weight: bold;\n",
    "    box-shadow: 3px 3px 10px rgba(0, 0, 0, 0.1);\">\n",
    "    🧠 Project Euler: Crack math and programming problems! 🔢<br>\n",
    "    <a href=\"https://projecteuler.net/\" style=\"color: #333; text-decoration: underline; font-size: 18px;\">Discover now</a>\n",
    "</div>"
   ]
  },
  {
   "cell_type": "markdown",
   "id": "f393f490",
   "metadata": {},
   "source": [
    "# Project Euler: Problem 007: 10 001st Prime\n",
    "<a href=\"https://projecteuler.net/problem=7\">Task definition</a>\n",
    "\n",
    "\n",
    "\"By listing the first six prime numbers: 2, 3, 5, 7, 11, and 13, we can see that the 6th prime is 13.\n",
    "\n",
    "What is the 10001st prime number?\""
   ]
  },
  {
   "cell_type": "code",
   "execution_count": null,
   "id": "e76b9a19",
   "metadata": {},
   "outputs": [],
   "source": [
    "sixth = 6\n",
    "\n",
    "lstPrimes = []\n",
    "primeNumber = 2"
   ]
  },
  {
   "cell_type": "code",
   "execution_count": null,
   "id": "0cdf3722",
   "metadata": {},
   "outputs": [],
   "source": [
    "def checkPrime(number):\n",
    "    if number < 2:\n",
    "        return False\n",
    "    for i in range(2, int(number**0.5) + 1):\n",
    "        if number % i == 0:\n",
    "            return False\n",
    "    return True"
   ]
  },
  {
   "cell_type": "code",
   "execution_count": null,
   "id": "3936de0f",
   "metadata": {},
   "outputs": [],
   "source": [
    "while len(lstPrimes) < sixth:\n",
    "    if checkPrime(primeNumber):\n",
    "        lstPrimes.append(primeNumber)\n",
    "    primeNumber += 1"
   ]
  },
  {
   "cell_type": "code",
   "execution_count": null,
   "id": "936d4803",
   "metadata": {},
   "outputs": [],
   "source": [
    "lstPrimes"
   ]
  },
  {
   "cell_type": "code",
   "execution_count": null,
   "id": "d45743ed",
   "metadata": {},
   "outputs": [],
   "source": [
    "print(f\"{len(lstPrimes) = }\\n{lstPrimes[-1] = }\")"
   ]
  },
  {
   "cell_type": "code",
   "execution_count": null,
   "id": "44a96f29",
   "metadata": {},
   "outputs": [],
   "source": [
    "def findXthPrimeNumber(numberOfPrimes: int) -> int:\n",
    "    \"\"\"\n",
    "    Finds the Xth prime number.\n",
    "\n",
    "    Args:\n",
    "        numberOfPrimes (int): The position of the prime\n",
    "        number to find (must be >= 1).\n",
    "\n",
    "    Returns:\n",
    "        int: The Xth prime number.\n",
    "    \"\"\"\n",
    "    assert isinstance(numberOfPrimes, int) and numberOfPrimes >= 1,\\\n",
    "    \"numberOfPrimes must be an integer >= 1\"\n",
    "\n",
    "    def is_prime(n: int) -> bool:\n",
    "        if n < 2:\n",
    "            return False\n",
    "        for i in range(2, int(n**0.5) + 1):\n",
    "            if n % i == 0:\n",
    "                return False\n",
    "            \n",
    "        return True\n",
    "    \n",
    "    primes = []\n",
    "    current = 2\n",
    "\n",
    "    while len(primes) < numberOfPrimes:\n",
    "        if is_prime(current):\n",
    "            primes.append(current)\n",
    "        current += 1\n",
    "\n",
    "    return primes[-1]"
   ]
  },
  {
   "cell_type": "code",
   "execution_count": null,
   "id": "af20e179",
   "metadata": {},
   "outputs": [],
   "source": [
    "findXthPrimeNumber(10001)"
   ]
  },
  {
   "cell_type": "markdown",
   "id": "87885c0f",
   "metadata": {},
   "source": [
    "<div style=\"text-align: center;\">\n",
    "  <a href=\"https://de.wikipedia.org/wiki/Leonhard_Euler\">\n",
    "    <img src=\"images/Leonhard_Euler.jpg\" alt=\"Leonhard Euler\" style=\"width:300px; height:400px;\">\n",
    "  </a>\n",
    "</div>"
   ]
  },
  {
   "cell_type": "markdown",
   "id": "2bd00507",
   "metadata": {},
   "source": [
    "<div style=\"\n",
    "    background-color: #ffe4b5; \n",
    "    color: #333; \n",
    "    padding: 15px; \n",
    "    border-radius: 10px; \n",
    "    text-align: center; \n",
    "    font-size: 18px; \n",
    "    font-weight: bold;\n",
    "    box-shadow: 3px 3px 10px rgba(0, 0, 0, 0.1);\">\n",
    "    🔗  Connect with me:  \n",
    "    <br><br>\n",
    "    📌 <a href=\"https://www.linkedin.com/in/jan-eric-keller\" target=\"_blank\" style=\"color: #0077b5; text-decoration: none; font-weight: bold;\">LinkedIn</a>  \n",
    "    <br>\n",
    "    📊 <a href=\"https://www.kaggle.com/whatthedatahastotell\" target=\"_blank\" style=\"color: #20beff; text-decoration: none; font-weight: bold;\">Kaggle</a>  \n",
    "    <br>\n",
    "    🎥 <a href=\"https://www.youtube.com/@ehemAushilfskassierer\" target=\"_blank\" style=\"color: #ff0000; text-decoration: none; font-weight: bold;\">YouTube</a>  \n",
    "    <br>\n",
    "    📸 <a href=\"https://www.instagram.com/ehem.aushilfskassierer/\" target=\"_blank\" style=\"color: #e1306c; text-decoration: none; font-weight: bold;\">Instagram</a>  \n",
    "    <br>\n",
    "    🎵 <a href=\"https://www.tiktok.com/@ehem.aushilfskassierer\" target=\"_blank\" style=\"color: #000000; text-decoration: none; font-weight: bold;\">TikTok</a>  \n",
    "    <br><br>\n",
    "    🚀 If you found this helpful, leave an <span style=\"color: #ff5b33;\">⭐ upvote</span>!  \n",
    "    <br>\n",
    "    💬 Let me know in the comments what you liked or what could be improved!  \n",
    "</div>"
   ]
  }
 ],
 "metadata": {
  "kernelspec": {
   "display_name": "venv",
   "language": "python",
   "name": "python3"
  },
  "language_info": {
   "codemirror_mode": {
    "name": "ipython",
    "version": 3
   },
   "file_extension": ".py",
   "mimetype": "text/x-python",
   "name": "python",
   "nbconvert_exporter": "python",
   "pygments_lexer": "ipython3",
   "version": "3.13.2"
  }
 },
 "nbformat": 4,
 "nbformat_minor": 5
}
