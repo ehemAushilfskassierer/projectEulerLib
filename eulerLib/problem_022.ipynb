{
 "cells": [
  {
   "cell_type": "markdown",
   "id": "c4565f93",
   "metadata": {},
   "source": [
    "<div style=\"\n",
    "    background-color: #ffddc1; \n",
    "    color: #333; \n",
    "    padding: 15px; \n",
    "    border-radius: 10px; \n",
    "    text-align: center; \n",
    "    font-size: 24px; \n",
    "    font-weight: bold;\n",
    "    box-shadow: 3px 3px 10px rgba(0, 0, 0, 0.1);\">\n",
    "    🧠 Project Euler: Crack math and programming problems! 🔢<br>\n",
    "    <a href=\"https://projecteuler.net/\" style=\"color: #333; text-decoration: underline; font-size: 18px;\">Discover now</a>\n",
    "</div>"
   ]
  },
  {
   "cell_type": "markdown",
   "id": "f393f490",
   "metadata": {},
   "source": [
    "# Project Euler: Problem 022: Names Scores\n",
    "<a href=\"https://projecteuler.net/problem=22\">Task definition</a>\n",
    "\n",
    "\"Using <a href=\"https://projecteuler.net/resources/documents/0022_names.txt\">names.txt</a> (right click and 'Save Link/Target As...'), a 46K text file containing over five-thousand first names, begin by sorting it into alphabetical order. Then working out the alphabetical value for each name, multiply this value by its alphabetical position in the list to obtain a name score.\n",
    "\n",
    "For example, when the list is sorted into alphabetical order, COLIN, which is worth $3 + 15 + 12 + 9 + 14 = 53$, is the $938$ th name in the list. So, COLIN would obtain a score of $938 \\times 53 = 49714$.\n",
    "\n",
    "What is the total of all the name scores in the file?\""
   ]
  },
  {
   "cell_type": "markdown",
   "id": "f592a2d0",
   "metadata": {},
   "source": [
    "##### Import library"
   ]
  },
  {
   "metadata": {},
   "cell_type": "code",
   "source": "import pandas as pd",
   "id": "3ffa9c45",
   "outputs": [],
   "execution_count": null
  },
  {
   "cell_type": "markdown",
   "id": "78c8c6bd",
   "metadata": {},
   "source": [
    "##### Open file, split names and remove quotes"
   ]
  },
  {
   "cell_type": "code",
   "id": "0fec5cf2",
   "metadata": {},
   "source": [
    "with open(\"files/0022_names.txt\") as f:\n",
    "    content = f.read()\n",
    "\n",
    "names = [name.strip('\"') for name in content.split(',')]\n",
    "\n",
    "df = pd.DataFrame({'names': names})\n",
    "\n",
    "df"
   ],
   "outputs": [],
   "execution_count": null
  },
  {
   "cell_type": "markdown",
   "id": "f757a323",
   "metadata": {},
   "source": [
    "##### Check DataFrame for `NaN`, range of index and type"
   ]
  },
  {
   "cell_type": "code",
   "id": "1792af44",
   "metadata": {},
   "source": "df.info()",
   "outputs": [],
   "execution_count": null
  },
  {
   "cell_type": "markdown",
   "id": "f807ccc0",
   "metadata": {},
   "source": [
    "##### Get a overview of how many names have which length"
   ]
  },
  {
   "cell_type": "code",
   "id": "8c42f8c8",
   "metadata": {},
   "source": [
    "names_lengths = df.names.str.len()\n",
    "names_lengths.value_counts()"
   ],
   "outputs": [],
   "execution_count": null
  },
  {
   "cell_type": "markdown",
   "id": "d313d830",
   "metadata": {},
   "source": [
    "##### Sort list and set DataFrame to 1-based positions"
   ]
  },
  {
   "cell_type": "code",
   "id": "7c12b9f7",
   "metadata": {},
   "source": [
    "sorted_df = df.sort_values(\n",
    "                    by='names',\n",
    "                    key=lambda x: x.str.upper()\n",
    "                            ).reset_index(drop=True)\n",
    "\n",
    "# 1-based positions\n",
    "sorted_df.index = sorted_df.index + 1\n",
    "\n",
    "# Start with index 1. \"COLIN\" will be on index 938\n",
    "sorted_df"
   ],
   "outputs": [],
   "execution_count": null
  },
  {
   "cell_type": "code",
   "id": "3c76b82e",
   "metadata": {},
   "source": "sorted_df.names[938] # COLIN",
   "outputs": [],
   "execution_count": null
  },
  {
   "cell_type": "markdown",
   "id": "d21a4315",
   "metadata": {},
   "source": [
    "##### Create a dictonary with upper case letters and their values"
   ]
  },
  {
   "cell_type": "code",
   "id": "3c0008dd",
   "metadata": {},
   "source": [
    "alphabet_values = {chr(i + 64): i for i in range(1, 27)}\n",
    "# Use 96 for lower and 64 for upper case\n",
    "alphabet_values"
   ],
   "outputs": [],
   "execution_count": null
  },
  {
   "cell_type": "markdown",
   "id": "f8e477b1",
   "metadata": {},
   "source": [
    "##### Get all unique letters from all names"
   ]
  },
  {
   "cell_type": "code",
   "id": "89c45e6a",
   "metadata": {},
   "source": [
    "# Join all names into a single string\n",
    "all_chars = \"\".join(sorted_df['names'])\n",
    "\n",
    "# Get unique characters\n",
    "unique_chars = sorted(set(all_chars))\n",
    "\n",
    "print(unique_chars)"
   ],
   "outputs": [],
   "execution_count": null
  },
  {
   "cell_type": "markdown",
   "id": "08cd3df6",
   "metadata": {},
   "source": [
    "##### Creat a function to calculate each names value"
   ]
  },
  {
   "cell_type": "code",
   "id": "7dea544b",
   "metadata": {},
   "source": [
    "def calcNameValue(name: str, mapper: dict[str, int]) -> int:\n",
    "    \"\"\"\n",
    "    Calculate the sum of letter values in a name.\n",
    "\n",
    "    Parameters:\n",
    "        name (str): The name whose value will\n",
    "                    be calculated.\n",
    "        mapper (dict[str, int]): Dictionary\n",
    "                mapping letters to their numeric values.\n",
    "\n",
    "    Returns:\n",
    "        int: The total value of the name.\n",
    "    \"\"\"\n",
    "    if not isinstance(name, str):\n",
    "        raise TypeError(\"name must be a string\")\n",
    "    if not isinstance(mapper, dict):\n",
    "        raise TypeError(\"mapper must be a dictionary\")\n",
    "\n",
    "    resultPerName = 0\n",
    "\n",
    "    # handle lowercase letters too\n",
    "    for ch in name.upper():\n",
    "        if ch in mapper:\n",
    "            resultPerName += mapper[ch]\n",
    "        else:\n",
    "            print(\"Char was not found in mapper.\\n\" \\\n",
    "            \"Check if the mapping upper\"\\\n",
    "                \"and lower case works.\")\n",
    "\n",
    "    return resultPerName"
   ],
   "outputs": [],
   "execution_count": null
  },
  {
   "cell_type": "markdown",
   "id": "35784dc8",
   "metadata": {},
   "source": [
    "##### Test the function by using `COLIN`"
   ]
  },
  {
   "cell_type": "code",
   "id": "a94553e6",
   "metadata": {},
   "source": "calcNameValue(sorted_df['names'][938], alphabet_values)",
   "outputs": [],
   "execution_count": null
  },
  {
   "cell_type": "markdown",
   "id": "fd529775",
   "metadata": {},
   "source": [
    "##### Get the range for all indexs"
   ]
  },
  {
   "cell_type": "code",
   "id": "71ce41bd",
   "metadata": {},
   "source": "sorted_df.index",
   "outputs": [],
   "execution_count": null
  },
  {
   "cell_type": "markdown",
   "id": "93710237",
   "metadata": {},
   "source": [
    "##### Create a function to calculate all scores"
   ]
  },
  {
   "cell_type": "code",
   "id": "f3b1a2dc",
   "metadata": {},
   "source": [
    "def calcTableValues(table: pd.DataFrame, bCalc: bool = False) -> int:\n",
    "    \"\"\"\n",
    "    Calculate the total score for all names in a DataFrame.\n",
    "    Each name's score = (its index) * (its name value).\n",
    "\n",
    "    Parameters:\n",
    "        table (pd.DataFrame): DataFrame containing a column 'names'.\n",
    "        bCalc (bool): When True, prints each name's calculation details.\n",
    "\n",
    "    Returns:\n",
    "        int: The total score of all names.\n",
    "    \"\"\"\n",
    "    if not isinstance(table, pd.DataFrame):\n",
    "        raise TypeError(\n",
    "            \"table must be a pandas DataFrame\")\n",
    "\n",
    "    if 'names' not in table.columns:\n",
    "        raise ValueError(\n",
    "            \"DataFrame must have a 'names' column\")\n",
    "\n",
    "    if not table['names'].apply(lambda x: isinstance(x, str)).all():\n",
    "        raise ValueError(\n",
    "            \"All entries in 'names' column must\"+\n",
    "            \" be strings\")\n",
    "\n",
    "    # Create alphabet mapping (A=1, B=2, ..., Z=26)\n",
    "    alphabetValues = {chr(i + 64): i for i in range(1, 27)}\n",
    "\n",
    "    total_score = 0\n",
    "\n",
    "    for i in table.index:\n",
    "        try:\n",
    "            name = table.loc[i, 'names'].upper()\n",
    "            name_value = calcNameValue(name, alphabetValues)\n",
    "            name_score = i * name_value\n",
    "            total_score += name_score\n",
    "\n",
    "            if bCalc:\n",
    "                print(f\"{i:4d}: \"+\n",
    "                      \"{name:<20} value ={name_value:3d}\"+\n",
    "                      \" --> score= {i:4d} x {name_value:3d}\"+\n",
    "                      \" = {name_score}\")\n",
    "\n",
    "        except Exception as e:\n",
    "            print(f\"Skipping index {i} due to error: {e}\")\n",
    "\n",
    "    return total_score"
   ],
   "outputs": [],
   "execution_count": null
  },
  {
   "cell_type": "markdown",
   "id": "7f119483",
   "metadata": {},
   "source": [
    "##### Calc total score"
   ]
  },
  {
   "cell_type": "code",
   "id": "018cfcf5",
   "metadata": {},
   "source": "calcTableValues(sorted_df)",
   "outputs": [],
   "execution_count": null
  },
  {
   "cell_type": "markdown",
   "id": "87885c0f",
   "metadata": {},
   "source": [
    "<div style=\"text-align: center;\">\n",
    "  <a href=\"https://de.wikipedia.org/wiki/Leonhard_Euler\">\n",
    "    <img src=\"images/Leonhard_Euler.jpg\" alt=\"Leonhard Euler\" style=\"width:300px; height:400px;\">\n",
    "  </a>\n",
    "</div>"
   ]
  },
  {
   "cell_type": "markdown",
   "id": "2bd00507",
   "metadata": {},
   "source": [
    "<div style=\"\n",
    "    background-color: #ffe4b5; \n",
    "    color: #333; \n",
    "    padding: 15px; \n",
    "    border-radius: 10px; \n",
    "    text-align: center; \n",
    "    font-size: 18px; \n",
    "    font-weight: bold;\n",
    "    box-shadow: 3px 3px 10px rgba(0, 0, 0, 0.1);\">\n",
    "    🔗  Connect with me:  \n",
    "    <br><br>\n",
    "    📌 <a href=\"https://www.linkedin.com/in/jan-eric-keller\" target=\"_blank\" style=\"color: #0077b5; text-decoration: none; font-weight: bold;\">LinkedIn</a>  \n",
    "    <br>\n",
    "    📊 <a href=\"https://www.kaggle.com/whatthedatahastotell\" target=\"_blank\" style=\"color: #20beff; text-decoration: none; font-weight: bold;\">Kaggle</a>  \n",
    "    <br>\n",
    "    🎥 <a href=\"https://www.youtube.com/@ehemAushilfskassierer\" target=\"_blank\" style=\"color: #ff0000; text-decoration: none; font-weight: bold;\">YouTube</a>  \n",
    "    <br>\n",
    "    📸 <a href=\"https://www.instagram.com/ehem.aushilfskassierer/\" target=\"_blank\" style=\"color: #e1306c; text-decoration: none; font-weight: bold;\">Instagram</a>  \n",
    "    <br>\n",
    "    🎵 <a href=\"https://www.tiktok.com/@ehem.aushilfskassierer\" target=\"_blank\" style=\"color: #000000; text-decoration: none; font-weight: bold;\">TikTok</a>  \n",
    "    <br><br>\n",
    "    🚀 If you found this helpful, leave an <span style=\"color: #ff5b33;\">⭐ upvote</span>!  \n",
    "    <br>\n",
    "    💬 Let me know in the comments what you liked or what could be improved!  \n",
    "</div>"
   ]
  }
 ],
 "metadata": {
  "kernelspec": {
   "display_name": "Python 3",
   "language": "python",
   "name": "python3"
  },
  "language_info": {
   "codemirror_mode": {
    "name": "ipython",
    "version": 3
   },
   "file_extension": ".py",
   "mimetype": "text/x-python",
   "name": "python",
   "nbconvert_exporter": "python",
   "pygments_lexer": "ipython3",
   "version": "3.13.2"
  }
 },
 "nbformat": 4,
 "nbformat_minor": 5
}
