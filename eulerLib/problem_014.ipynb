{
 "cells": [
  {
   "cell_type": "markdown",
   "id": "c4565f93",
   "metadata": {},
   "source": [
    "<div style=\"\n",
    "    background-color: #ffddc1; \n",
    "    color: #333; \n",
    "    padding: 15px; \n",
    "    border-radius: 10px; \n",
    "    text-align: center; \n",
    "    font-size: 24px; \n",
    "    font-weight: bold;\n",
    "    box-shadow: 3px 3px 10px rgba(0, 0, 0, 0.1);\">\n",
    "    🧠 Project Euler: Crack math and programming problems! 🔢<br>\n",
    "    <a href=\"https://projecteuler.net/\" style=\"color: #333; text-decoration: underline; font-size: 18px;\">Discover now</a>\n",
    "</div>"
   ]
  },
  {
   "cell_type": "markdown",
   "id": "f393f490",
   "metadata": {},
   "source": [
    "# Project Euler: Problem 014: Longest Collatz Sequence\n",
    "<a href=\"https://projecteuler.net/problem=14\">Task definition</a>\n",
    "\n",
    "\n",
    "\"The following iterative sequence is defined for the set of positive integers:  \n",
    "$n \\rarr n / 2$ ($n$ is even)  \n",
    "$n \\rarr 3n + 1$ ($n$ is odd)  \n",
    "Using the rule above and starting with 13, we generate the following sequence:  \n",
    "$13 \\rarr 40 \\rarr 20 \\rarr 10 \\rarr 5 \\rarr 16 \\rarr 8 \\rarr 4 \\rarr 2 \\rarr 1$\n",
    "\n",
    "\n",
    "It can be seen that this sequence (starting at 13 and finishing at 1) contains \n",
    "10 terms. Although it has not been proved yet (Collatz Problem), it is thought that all starting numbers finish at 1.\n",
    "\n",
    "**Which starting number, under one million**, produces the **longest chain**?\n",
    "\n",
    "**NOTE:** Once the chain starts the terms are allowed to go above one million.\""
   ]
  },
  {
   "cell_type": "markdown",
   "id": "a8951967",
   "metadata": {},
   "source": [
    "## 📌 The Collatz Function\n",
    "\n",
    "Let $n \\in \\mathbb{N}$ be a natural number (i.e. a positive whole number like 1, 2, 3, ...).\n",
    "\n",
    "We define the **Collatz function** as follows:\n",
    "\n",
    "$\n",
    "\\operatorname{Col}(n) = \n",
    "\\begin{cases} \n",
    "\\frac{n}{2} & \\text{if } n \\text{ is even} \\\\\n",
    "3n + 1 & \\text{if } n \\text{ is odd}\n",
    "\\end{cases}\n",
    "$\n",
    "---\n",
    "\n",
    "### 🧠 Explanation\n",
    "\n",
    "- The Collatz function, also called the **\"3n + 1\" function**, is a simple rule you apply to any natural number.\n",
    "- If the number is **even**, you **divide it by 2**.\n",
    "- If the number is **odd**, you **multiply it by 3 and add 1**.\n",
    "\n",
    "You can then apply the function again to the result — and repeat this process over and over. This leads to what's known as the **Collatz sequence**.\n",
    "\n",
    "💡 *Mathematicians are fascinated by this function because no matter what number you start with, it always seems to eventually reach 1 — but no one has ever been able to prove this for every possible number!*\n",
    "\n",
    "*<a href=\"https://de.wikipedia.org/wiki/Collatz-Problem\"> Source</a>*"
   ]
  },
  {
   "cell_type": "code",
   "execution_count": null,
   "id": "18c02d54",
   "metadata": {},
   "outputs": [],
   "source": [
    "searchBelow = 999999"
   ]
  },
  {
   "cell_type": "code",
   "execution_count": null,
   "id": "c0f69bbf",
   "metadata": {},
   "outputs": [],
   "source": [
    "def calcCollatz(number):\n",
    "    if number % 2 == 0:\n",
    "        return number / 2\n",
    "    else:\n",
    "        return 3*number + 1"
   ]
  },
  {
   "cell_type": "code",
   "execution_count": null,
   "id": "e9fcb59e",
   "metadata": {},
   "outputs": [],
   "source": [
    "lstMaxLength = []\n",
    "\n",
    "for i in range(searchBelow, 837000, -1):\n",
    "    lstCurrent = []\n",
    "    a = i\n",
    "    lstCurrent.append(a)\n",
    "    while a > 1:\n",
    "        a = calcCollatz(a)\n",
    "        lstCurrent.append(a)\n",
    "\n",
    "    if len(lstCurrent) > len(lstMaxLength):\n",
    "        lstMaxLength = lstCurrent"
   ]
  },
  {
   "cell_type": "code",
   "execution_count": null,
   "id": "ec611c5a",
   "metadata": {},
   "outputs": [],
   "source": [
    "lstMaxLength[0]"
   ]
  },
  {
   "cell_type": "code",
   "execution_count": null,
   "id": "6616c53f",
   "metadata": {},
   "outputs": [],
   "source": []
  },
  {
   "cell_type": "markdown",
   "id": "87885c0f",
   "metadata": {},
   "source": [
    "<div style=\"text-align: center;\">\n",
    "  <a href=\"https://de.wikipedia.org/wiki/Leonhard_Euler\">\n",
    "    <img src=\"images/Leonhard_Euler.jpg\" alt=\"Leonhard Euler\" style=\"width:300px; height:400px;\">\n",
    "  </a>\n",
    "</div>"
   ]
  },
  {
   "cell_type": "markdown",
   "id": "2bd00507",
   "metadata": {},
   "source": [
    "<div style=\"\n",
    "    background-color: #ffe4b5; \n",
    "    color: #333; \n",
    "    padding: 15px; \n",
    "    border-radius: 10px; \n",
    "    text-align: center; \n",
    "    font-size: 18px; \n",
    "    font-weight: bold;\n",
    "    box-shadow: 3px 3px 10px rgba(0, 0, 0, 0.1);\">\n",
    "    🔗  Connect with me:  \n",
    "    <br><br>\n",
    "    📌 <a href=\"https://www.linkedin.com/in/jan-eric-keller\" target=\"_blank\" style=\"color: #0077b5; text-decoration: none; font-weight: bold;\">LinkedIn</a>  \n",
    "    <br>\n",
    "    📊 <a href=\"https://www.kaggle.com/whatthedatahastotell\" target=\"_blank\" style=\"color: #20beff; text-decoration: none; font-weight: bold;\">Kaggle</a>  \n",
    "    <br>\n",
    "    🎥 <a href=\"https://www.youtube.com/@ehemAushilfskassierer\" target=\"_blank\" style=\"color: #ff0000; text-decoration: none; font-weight: bold;\">YouTube</a>  \n",
    "    <br>\n",
    "    📸 <a href=\"https://www.instagram.com/ehem.aushilfskassierer/\" target=\"_blank\" style=\"color: #e1306c; text-decoration: none; font-weight: bold;\">Instagram</a>  \n",
    "    <br>\n",
    "    🎵 <a href=\"https://www.tiktok.com/@ehem.aushilfskassierer\" target=\"_blank\" style=\"color: #000000; text-decoration: none; font-weight: bold;\">TikTok</a>  \n",
    "    <br><br>\n",
    "    🚀 If you found this helpful, leave an <span style=\"color: #ff5b33;\">⭐ upvote</span>!  \n",
    "    <br>\n",
    "    💬 Let me know in the comments what you liked or what could be improved!  \n",
    "</div>"
   ]
  }
 ],
 "metadata": {
  "kernelspec": {
   "display_name": "venv",
   "language": "python",
   "name": "python3"
  },
  "language_info": {
   "codemirror_mode": {
    "name": "ipython",
    "version": 3
   },
   "file_extension": ".py",
   "mimetype": "text/x-python",
   "name": "python",
   "nbconvert_exporter": "python",
   "pygments_lexer": "ipython3",
   "version": "3.13.2"
  }
 },
 "nbformat": 4,
 "nbformat_minor": 5
}
