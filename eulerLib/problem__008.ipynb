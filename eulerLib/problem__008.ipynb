{
 "cells": [
  {
   "cell_type": "markdown",
   "id": "c4565f93",
   "metadata": {},
   "source": [
    "<div style=\"\n",
    "    background-color: #ffddc1; \n",
    "    color: #333; \n",
    "    padding: 15px; \n",
    "    border-radius: 10px; \n",
    "    text-align: center; \n",
    "    font-size: 24px; \n",
    "    font-weight: bold;\n",
    "    box-shadow: 3px 3px 10px rgba(0, 0, 0, 0.1);\">\n",
    "    🧠 Project Euler: Crack math and programming problems! 🔢<br>\n",
    "    <a href=\"https://projecteuler.net/\" style=\"color: #333; text-decoration: underline; font-size: 18px;\">Discover now</a>\n",
    "</div>"
   ]
  },
  {
   "cell_type": "markdown",
   "id": "f393f490",
   "metadata": {},
   "source": [
    "# Project Euler: Problem 008: Largest Product in a Series\n",
    "<a href=\"https://projecteuler.net/problem=8\">Task definition</a>\n",
    "\n",
    "\n",
    "\"The four adjacent digits in the 1000-digit number that have the greatest product are  \n",
    "$9 * 9 * 8 * 9 = 5832.$\n",
    "\n",
    "73167176531330624919225119674426574742355349194934  \n",
    "96983520312774506326239578318016984801869478851843  \n",
    "85861560789112949495459501737958331952853208805511  \n",
    "12540698747158523863050715693290963295227443043557  \n",
    "66896648950445244523161731856403098711121722383113  \n",
    "62229893423380308135336276614282806444486645238749  \n",
    "30358907296290491560440772390713810515859307960866  \n",
    "70172427121883998797908792274921901699720888093776  \n",
    "65727333001053367881220235421809751254540594752243  \n",
    "52584907711670556013604839586446706324415722155397  \n",
    "53697817977846174064955149290862569321978468622482  \n",
    "83972241375657056057490261407972968652414535100474  \n",
    "82166370484403199890008895243450658541227588666881  \n",
    "16427171479924442928230863465674813919123162824586  \n",
    "17866458359124566529476545682848912883142607690042  \n",
    "24219022671055626321111109370544217506941658960408  \n",
    "07198403850962455444362981230987879927244284909188  \n",
    "84580156166097919133875499200524063689912560717606  \n",
    "05886116467109405077541002256983155200055935729725  \n",
    "71636269561882670428252483600823257530420752963450\n",
    "\n",
    "Find the thirteen adjacent digits in the 1000-digit number that have the greatest product. What is the value of this product?\""
   ]
  },
  {
   "cell_type": "code",
   "execution_count": null,
   "id": "d13824d2",
   "metadata": {},
   "outputs": [],
   "source": [
    "strLargeNumber = (\n",
    "    \"73167176531330624919225119674426574742355349194934\"\n",
    "    \"96983520312774506326239578318016984801869478851843\"\n",
    "    \"85861560789112949495459501737958331952853208805511\"\n",
    "    \"12540698747158523863050715693290963295227443043557\"\n",
    "    \"66896648950445244523161731856403098711121722383113\"\n",
    "    \"62229893423380308135336276614282806444486645238749\"\n",
    "    \"30358907296290491560440772390713810515859307960866\"\n",
    "    \"70172427121883998797908792274921901699720888093776\"\n",
    "    \"65727333001053367881220235421809751254540594752243\"\n",
    "    \"52584907711670556013604839586446706324415722155397\"\n",
    "    \"53697817977846174064955149290862569321978468622482\"\n",
    "    \"83972241375657056057490261407972968652414535100474\"\n",
    "    \"82166370484403199890008895243450658541227588666881\"\n",
    "    \"16427171479924442928230863465674813919123162824586\"\n",
    "    \"17866458359124566529476545682848912883142607690042\"\n",
    "    \"24219022671055626321111109370544217506941658960408\"\n",
    "    \"07198403850962455444362981230987879927244284909188\"\n",
    "    \"84580156166097919133875499200524063689912560717606\"\n",
    "    \"05886116467109405077541002256983155200055935729725\"\n",
    "    \"71636269561882670428252483600823257530420752963450\"\n",
    ")"
   ]
  },
  {
   "cell_type": "code",
   "execution_count": null,
   "id": "227784d3",
   "metadata": {},
   "outputs": [],
   "source": [
    "len(strLargeNumber)"
   ]
  },
  {
   "cell_type": "code",
   "execution_count": null,
   "id": "cd0a5afa",
   "metadata": {},
   "outputs": [],
   "source": [
    "amountOfDigits = 4"
   ]
  },
  {
   "cell_type": "code",
   "execution_count": null,
   "id": "d658df22",
   "metadata": {},
   "outputs": [],
   "source": [
    "lstAllProducts = []\n",
    "\n",
    "for i in range(len(strLargeNumber) - amountOfDigits):\n",
    "    product = (\n",
    "        int(strLargeNumber[i])*\n",
    "        int(strLargeNumber[i+1])*\n",
    "        int(strLargeNumber[i+2])*\n",
    "        int(strLargeNumber[i+3])\n",
    "    )\n",
    "\n",
    "    lstAllProducts.append({\n",
    "        'Number1': strLargeNumber[i],\n",
    "        'Number2': strLargeNumber[i+1],\n",
    "        'Number3': strLargeNumber[i+2],\n",
    "        'Number4': strLargeNumber[i+3],\n",
    "        'Product': product\n",
    "    })"
   ]
  },
  {
   "cell_type": "code",
   "execution_count": null,
   "id": "d3dd3da2",
   "metadata": {},
   "outputs": [],
   "source": [
    "max_product_entry = max(lstAllProducts, key = lambda x: x['Product'])\n",
    "max_product_entry"
   ]
  },
  {
   "cell_type": "markdown",
   "id": "1d2146a5",
   "metadata": {},
   "source": [
    "### Create function"
   ]
  },
  {
   "cell_type": "code",
   "execution_count": null,
   "id": "eda1c476",
   "metadata": {},
   "outputs": [],
   "source": [
    "def findLargestProductOfAdjansetNumbers(bigNumber: str, numberOfNeighbours: int, showCalculation: bool = False) -> int:\n",
    "    \"\"\"\n",
    "    Find the largest product of `numberOfNeighbours` adjacent digits in `bigNumber`.\n",
    "\n",
    "    Args:\n",
    "        bigNumber (str): A string consisting of digits (e.g., \"123456789\").\n",
    "        numberOfNeighbours (int): Number of adjacent digits to multiply.\n",
    "        showCalculation (bool, optional): If True, print the digits and the product. Defaults to False.\n",
    "\n",
    "    Returns:\n",
    "        int: The largest product found.\n",
    "    \"\"\"\n",
    "    assert isinstance(bigNumber, str) and len(bigNumber) > numberOfNeighbours, \"bigNumber has to be a String and must be bigger than numberOfNeighbours\"\n",
    "    assert isinstance(numberOfNeighbours, int) and numberOfNeighbours > 1, \"numberOfNeighbours has to be Integer and must be > 2\"\n",
    "    assert isinstance(showCalculation, bool), \"showCalculation has to be Boolean\"\n",
    "\n",
    "    max_product = 0\n",
    "    max_digits = []\n",
    "\n",
    "    for i in range(len(bigNumber) - numberOfNeighbours + 1):\n",
    "        digits = bigNumber[i:i + numberOfNeighbours]\n",
    "\n",
    "        if '0' in digits:\n",
    "            continue # Skip\n",
    "\n",
    "        product = 1\n",
    "        for d in digits:\n",
    "            product *= int(d)\n",
    "\n",
    "        if product > max_product:\n",
    "            max_product = product\n",
    "            max_digits = digits\n",
    "\n",
    "    if showCalculation:\n",
    "        print(f\"Digits: {' x '.join(max_digits)} = {max_product}\")\n",
    "\n",
    "    return max_product\n",
    "\n",
    "    "
   ]
  },
  {
   "cell_type": "markdown",
   "id": "120ab54e",
   "metadata": {},
   "source": [
    "#### Find result"
   ]
  },
  {
   "cell_type": "code",
   "execution_count": null,
   "id": "5fd9a07e",
   "metadata": {},
   "outputs": [],
   "source": [
    "findLargestProductOfAdjansetNumbers(strLargeNumber, 13, True)"
   ]
  },
  {
   "cell_type": "markdown",
   "id": "87885c0f",
   "metadata": {},
   "source": [
    "<div style=\"text-align: center;\">\n",
    "  <a href=\"https://de.wikipedia.org/wiki/Leonhard_Euler\">\n",
    "    <img src=\"images/Leonhard_Euler.jpg\" alt=\"Leonhard Euler\" style=\"width:300px; height:400px;\">\n",
    "  </a>\n",
    "</div>"
   ]
  },
  {
   "cell_type": "markdown",
   "id": "2bd00507",
   "metadata": {},
   "source": [
    "<div style=\"\n",
    "    background-color: #ffe4b5; \n",
    "    color: #333; \n",
    "    padding: 15px; \n",
    "    border-radius: 10px; \n",
    "    text-align: center; \n",
    "    font-size: 18px; \n",
    "    font-weight: bold;\n",
    "    box-shadow: 3px 3px 10px rgba(0, 0, 0, 0.1);\">\n",
    "    🔗  Connect with me:  \n",
    "    <br><br>\n",
    "    📌 <a href=\"https://www.linkedin.com/in/jan-eric-keller\" target=\"_blank\" style=\"color: #0077b5; text-decoration: none; font-weight: bold;\">LinkedIn</a>  \n",
    "    <br>\n",
    "    📊 <a href=\"https://www.kaggle.com/whatthedatahastotell\" target=\"_blank\" style=\"color: #20beff; text-decoration: none; font-weight: bold;\">Kaggle</a>  \n",
    "    <br>\n",
    "    🎥 <a href=\"https://www.youtube.com/@ehemAushilfskassierer\" target=\"_blank\" style=\"color: #ff0000; text-decoration: none; font-weight: bold;\">YouTube</a>  \n",
    "    <br>\n",
    "    📸 <a href=\"https://www.instagram.com/ehem.aushilfskassierer/\" target=\"_blank\" style=\"color: #e1306c; text-decoration: none; font-weight: bold;\">Instagram</a>  \n",
    "    <br>\n",
    "    🎵 <a href=\"https://www.tiktok.com/@ehem.aushilfskassierer\" target=\"_blank\" style=\"color: #000000; text-decoration: none; font-weight: bold;\">TikTok</a>  \n",
    "    <br><br>\n",
    "    🚀 If you found this helpful, leave an <span style=\"color: #ff5b33;\">⭐ upvote</span>!  \n",
    "    <br>\n",
    "    💬 Let me know in the comments what you liked or what could be improved!  \n",
    "</div>"
   ]
  }
 ],
 "metadata": {
  "kernelspec": {
   "display_name": "venv",
   "language": "python",
   "name": "python3"
  },
  "language_info": {
   "codemirror_mode": {
    "name": "ipython",
    "version": 3
   },
   "file_extension": ".py",
   "mimetype": "text/x-python",
   "name": "python",
   "nbconvert_exporter": "python",
   "pygments_lexer": "ipython3",
   "version": "3.13.2"
  }
 },
 "nbformat": 4,
 "nbformat_minor": 5
}
