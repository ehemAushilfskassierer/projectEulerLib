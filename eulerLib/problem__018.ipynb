{
 "cells": [
  {
   "cell_type": "markdown",
   "id": "c4565f93",
   "metadata": {},
   "source": [
    "<div style=\"\n",
    "    background-color: #ffddc1; \n",
    "    color: #333; \n",
    "    padding: 15px; \n",
    "    border-radius: 10px; \n",
    "    text-align: center; \n",
    "    font-size: 24px; \n",
    "    font-weight: bold;\n",
    "    box-shadow: 3px 3px 10px rgba(0, 0, 0, 0.1);\">\n",
    "    🧠 Project Euler: Crack math and programming problems! 🔢<br>\n",
    "    <a href=\"https://projecteuler.net/\" style=\"color: #333; text-decoration: underline; font-size: 18px;\">Discover now</a>\n",
    "</div>"
   ]
  },
  {
   "cell_type": "markdown",
   "id": "f393f490",
   "metadata": {},
   "source": [
    "# Project Euler: Problem 018: Maximum Path Sum I\n",
    "<a href=\"https://projecteuler.net/problem=18\">Task definition</a>\n",
    "\n",
    "\"By starting at the top of the triangle below and moving to adjacent numbers on the row below, the maximum total from top to bottom is 23.\n",
    "<div style=\"text-align: center;\">\n",
    "  <a href=\"https://projecteuler.net/problem=18\">\n",
    "    <img src=\"images/0018_1.png\" alt=\"Grid\" style=\"width:200px; height:200px;\">\n",
    "  </a>\n",
    "</div>\n",
    "That is, 3 + 7 + 4 + 9 = 23.\n",
    "Find the maximum total from top to bottom of the triangle below:\n",
    "\n",
    "<div style=\"text-align: center;\">\n",
    "  <a href=\"https://projecteuler.net/problem=18\">\n",
    "    <img src=\"images/0018_2.png\" alt=\"Grid\" style=\"width:200px; height:200px;\">\n",
    "  </a>\n",
    "</div>\n",
    "\n",
    "**NOTE**: As there are only 16384 routes, it is possible to solve this problem by trying every route. However,**Problem 67**, is the same challenge with a triangle containing one-hundred rows; it cannot be solved by brute force, and requires a clever method! ;o)\""
   ]
  },
  {
   "cell_type": "code",
   "execution_count": null,
   "id": "90f13760",
   "metadata": {},
   "outputs": [],
   "source": [
    "testTriangle = [\n",
    "    [3],\n",
    "    [7, 4],\n",
    "    [2, 4, 6],\n",
    "    [8, 5, 9, 3]\n",
    "]"
   ]
  },
  {
   "cell_type": "code",
   "execution_count": null,
   "id": "0ee94747",
   "metadata": {},
   "outputs": [],
   "source": [
    "triangle = [\n",
    "    [75],\n",
    "    [95, 64],\n",
    "    [17, 47, 82],\n",
    "    [18, 35, 87, 10],\n",
    "    [20, 4, 82, 47, 65],\n",
    "    [19, 1, 23, 75, 3, 34],\n",
    "    [88, 2, 77, 73, 7, 63, 67],\n",
    "    [99, 65, 4, 28, 6, 16, 70, 92],\n",
    "    [41, 41, 26, 56, 83, 40, 80, 70, 33],\n",
    "    [41, 48, 72, 33, 47, 32, 37, 16, 94, 29],\n",
    "    [53, 71, 44, 65, 25, 43, 91, 52, 97, 51, 14],\n",
    "    [70, 11, 33, 28, 77, 73, 17, 78, 39, 68, 17, 57],\n",
    "    [91, 71, 52, 38, 17, 14, 91, 43, 58, 50, 27, 29, 48],\n",
    "    [63, 66, 4, 68, 89, 53, 67, 30, 73, 16, 69, 87, 40, 31],\n",
    "    [4, 62, 98, 27, 23, 9, 70, 98, 73, 93, 38, 53, 60, 4, 23]\n",
    "]"
   ]
  },
  {
   "cell_type": "markdown",
   "id": "a292c526",
   "metadata": {},
   "source": [
    "## Bottom-up\n",
    "\n",
    "- Start at the second last line.\n",
    "- For each element, add the maximum of the two numbers below it."
   ]
  },
  {
   "cell_type": "markdown",
   "id": "7a7bfcd4",
   "metadata": {},
   "source": [
    "You can choose to throw an exception if a condition occurs.  \n",
    "\n",
    "To throw (or raise) an exception, use the raise keyword.  \n",
    "\n",
    "[w3schools Raise an Exception](https://www.w3schools.com/python/gloss_python_raise.asp)"
   ]
  },
  {
   "cell_type": "code",
   "execution_count": null,
   "id": "c44e53c0",
   "metadata": {},
   "outputs": [],
   "source": [
    "from typing import List"
   ]
  },
  {
   "cell_type": "code",
   "execution_count": null,
   "id": "84a591d5",
   "metadata": {},
   "outputs": [],
   "source": [
    "def max_path_sum(triangle: List[List[int]], show_path: bool = False) -> int:\n",
    "    # Validation: triangle must be list of lists of int with matching structure\n",
    "    if not all(isinstance(row, list) for row in triangle):\n",
    "        raise TypeError(\"triangle must be a list of lists\")\n",
    "    if not all(isinstance(val, int) for row in triangle for val in row):\n",
    "        raise TypeError(\"all elements in triangle must be integers\")\n",
    "    if not all(len(row) == i + 1 for i, row in enumerate(triangle)):\n",
    "        raise ValueError(\"each row i in triangle must have exactly i+1 elements\")\n",
    "    \n",
    "    # Copy so that the original is not changed\n",
    "    triangle_copy = [row[:] for row in triangle]\n",
    "    path_indices = [[0] * len(row) for row in triangle]\n",
    "\n",
    "    # Bottom-up calculation with path tracing\n",
    "    for row in range(len(triangle_copy) - 2, -1, -1):\n",
    "        for col in range(len(triangle_copy[row])):\n",
    "            left = triangle_copy[row + 1][col]\n",
    "            right = triangle_copy[row + 1][col + 1]\n",
    "            if right > left:\n",
    "                triangle_copy[row][col] += right\n",
    "                path_indices[row][col] = col + 1\n",
    "            else:\n",
    "                triangle_copy[row][col] += left\n",
    "                path_indices[row][col] = col\n",
    "\n",
    "    # Assemble path\n",
    "    if show_path:\n",
    "        lst = []\n",
    "        row = col = 0\n",
    "        while row < len(triangle):\n",
    "            lst.append(triangle[row][col])\n",
    "            if row < len(triangle) - 1:\n",
    "                col = path_indices[row][col]\n",
    "            row += 1\n",
    "\n",
    "        print(\" + \".join(str(x) for x in lst))\n",
    "\n",
    "    return triangle_copy[0][0]"
   ]
  },
  {
   "cell_type": "code",
   "execution_count": null,
   "id": "75638be7",
   "metadata": {},
   "outputs": [],
   "source": [
    "max_path_sum(testTriangle, True)"
   ]
  },
  {
   "cell_type": "code",
   "execution_count": null,
   "id": "e2b4b59f",
   "metadata": {},
   "outputs": [],
   "source": [
    "max_path_sum(triangle, True)"
   ]
  },
  {
   "cell_type": "markdown",
   "id": "87885c0f",
   "metadata": {},
   "source": [
    "<div style=\"text-align: center;\">\n",
    "  <a href=\"https://de.wikipedia.org/wiki/Leonhard_Euler\">\n",
    "    <img src=\"images/Leonhard_Euler.jpg\" alt=\"Leonhard Euler\" style=\"width:300px; height:400px;\">\n",
    "  </a>\n",
    "</div>"
   ]
  },
  {
   "cell_type": "markdown",
   "id": "2bd00507",
   "metadata": {},
   "source": [
    "<div style=\"\n",
    "    background-color: #ffe4b5; \n",
    "    color: #333; \n",
    "    padding: 15px; \n",
    "    border-radius: 10px; \n",
    "    text-align: center; \n",
    "    font-size: 18px; \n",
    "    font-weight: bold;\n",
    "    box-shadow: 3px 3px 10px rgba(0, 0, 0, 0.1);\">\n",
    "    🔗  Connect with me:  \n",
    "    <br><br>\n",
    "    📌 <a href=\"https://www.linkedin.com/in/jan-eric-keller\" target=\"_blank\" style=\"color: #0077b5; text-decoration: none; font-weight: bold;\">LinkedIn</a>  \n",
    "    <br>\n",
    "    📊 <a href=\"https://www.kaggle.com/whatthedatahastotell\" target=\"_blank\" style=\"color: #20beff; text-decoration: none; font-weight: bold;\">Kaggle</a>  \n",
    "    <br>\n",
    "    🎥 <a href=\"https://www.youtube.com/@ehemAushilfskassierer\" target=\"_blank\" style=\"color: #ff0000; text-decoration: none; font-weight: bold;\">YouTube</a>  \n",
    "    <br>\n",
    "    📸 <a href=\"https://www.instagram.com/ehem.aushilfskassierer/\" target=\"_blank\" style=\"color: #e1306c; text-decoration: none; font-weight: bold;\">Instagram</a>  \n",
    "    <br>\n",
    "    🎵 <a href=\"https://www.tiktok.com/@ehem.aushilfskassierer\" target=\"_blank\" style=\"color: #000000; text-decoration: none; font-weight: bold;\">TikTok</a>  \n",
    "    <br><br>\n",
    "    🚀 If you found this helpful, leave an <span style=\"color: #ff5b33;\">⭐ upvote</span>!  \n",
    "    <br>\n",
    "    💬 Let me know in the comments what you liked or what could be improved!  \n",
    "</div>"
   ]
  }
 ],
 "metadata": {
  "kernelspec": {
   "display_name": "venv",
   "language": "python",
   "name": "python3"
  },
  "language_info": {
   "codemirror_mode": {
    "name": "ipython",
    "version": 3
   },
   "file_extension": ".py",
   "mimetype": "text/x-python",
   "name": "python",
   "nbconvert_exporter": "python",
   "pygments_lexer": "ipython3",
   "version": "3.13.2"
  }
 },
 "nbformat": 4,
 "nbformat_minor": 5
}
